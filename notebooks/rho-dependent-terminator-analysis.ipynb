{
 "cells": [
  {
   "cell_type": "code",
   "execution_count": 1,
   "id": "d6c52ebe-789f-4cdc-9a0d-61a4bdf4aca8",
   "metadata": {
    "tags": []
   },
   "outputs": [],
   "source": [
    "import numpy as np\n",
    "from matplotlib import pyplot as plt\n",
    "import pandas as pd\n",
    "import seaborn as sns"
   ]
  },
  {
   "cell_type": "code",
   "execution_count": 9,
   "id": "dc8923b7-dfa0-4978-907c-904645685b95",
   "metadata": {
    "tags": []
   },
   "outputs": [],
   "source": [
    "GEMs_taxonomy = pd.read_csv(\"/BioII/lulab_b/jinyunfan/projects/terminator-prediction/rho-protein-phylogenetics/reference-genomes/otu_taxonomy.tsv\",sep=\"\\t\",index_col=0)"
   ]
  },
  {
   "cell_type": "code",
   "execution_count": 14,
   "id": "96042e95-7dbf-4dea-b706-d50cc3086f4d",
   "metadata": {},
   "outputs": [
    {
     "data": {
      "text/plain": [
       "'/BioII/lulab_b/jinyunfan/projects/terminator-prediction/publication'"
      ]
     },
     "execution_count": 14,
     "metadata": {},
     "output_type": "execute_result"
    }
   ],
   "source": [
    "pwd"
   ]
  },
  {
   "cell_type": "code",
   "execution_count": null,
   "id": "8d13d67c-075d-49c3-a12d-abb3f18c6467",
   "metadata": {},
   "outputs": [],
   "source": []
  }
 ],
 "metadata": {
  "kernelspec": {
   "display_name": "Python 3 (ipykernel)",
   "language": "python",
   "name": "python3"
  },
  "language_info": {
   "codemirror_mode": {
    "name": "ipython",
    "version": 3
   },
   "file_extension": ".py",
   "mimetype": "text/x-python",
   "name": "python",
   "nbconvert_exporter": "python",
   "pygments_lexer": "ipython3",
   "version": "3.11.6"
  }
 },
 "nbformat": 4,
 "nbformat_minor": 5
}
