{
 "cells": [
  {
   "cell_type": "code",
   "execution_count": 2,
   "id": "3ae1df44-3486-4984-9966-9b6d8581d333",
   "metadata": {
    "tags": []
   },
   "outputs": [],
   "source": [
    "GEMs_taxonomy = pd.read_csv(\"/BioII/lulab_b/jinyunfan/projects/terminator-prediction/rho-protein-phylogenetics/reference-genomes/otu_taxonomy.tsv\",sep=\"\\t\",index_col=0)"
   ]
  },
  {
   "cell_type": "code",
   "execution_count": 15,
   "id": "86e9734a-a509-4092-abbd-521e55011895",
   "metadata": {
    "tags": []
   },
   "outputs": [],
   "source": [
    "from scipy.interpolate import interp1d\n",
    "import os\n",
    "import numpy as np\n",
    "import pandas as pd\n",
    "from scipy.stats import ranksums\n",
    "from scipy.stats import kruskal"
   ]
  },
  {
   "cell_type": "code",
   "execution_count": 6,
   "id": "8348aec6-2416-412c-af53-1bcc37aec91c",
   "metadata": {
    "tags": []
   },
   "outputs": [],
   "source": [
    "rho_domains = pd.read_csv(\"data/rho-hmm-hits.txt\",sep=\"\\t\")"
   ]
  },
  {
   "cell_type": "code",
   "execution_count": 82,
   "id": "1db991c0-1754-4c7d-985d-0072d01b324a",
   "metadata": {
    "tags": []
   },
   "outputs": [],
   "source": [
    "rho_domains_full = rho_domains[(rho_domains[\"domain hit\"].map(lambda x:\"Rho_ATPase\" in str(x)))&((rho_domains[\"domain hit\"].map(lambda x:\"Rho_RNA_bind\" in str(x))))]"
   ]
  },
  {
   "cell_type": "code",
   "execution_count": 84,
   "id": "5c09a246-d19e-4ed9-abda-3014ba2ab9dc",
   "metadata": {
    "tags": []
   },
   "outputs": [],
   "source": [
    "def aggregate_by_otu(t):\n",
    "    protein_ids = \",\".join(t[\"protein id\"].values)\n",
    "    return pd.Series({\"protein id\":protein_ids})"
   ]
  },
  {
   "cell_type": "code",
   "execution_count": 85,
   "id": "4b6e8b91-de24-454e-8fef-0f3e3ee9e3e9",
   "metadata": {
    "tags": []
   },
   "outputs": [],
   "source": [
    "rho_domains_full = rho_domains_full.groupby(\"otu id\").apply(aggregate_by_otu)"
   ]
  },
  {
   "cell_type": "code",
   "execution_count": 86,
   "id": "ae545571-1510-43e0-825f-76212a7f390b",
   "metadata": {
    "tags": []
   },
   "outputs": [],
   "source": [
    "genome_to_otu = pd.read_csv(\"/data2/lulab1/microbiome/MAGs/GEMs/metadata/genome_to_otu.tsv\",sep=\"\\t\")\n",
    "representative_genomes = pd.read_csv(\"/data2/lulab1/microbiome/MAGs/GEMs/metadata/otu_representative_genomes.tsv\",sep=\"\\t\",index_col=0)\n",
    "representative_genomes = genome_to_otu[genome_to_otu[\"genome_id\"].isin(representative_genomes[\"genome_id\"])]\n",
    "representative_genomes = representative_genomes.set_index(\"otu_id\")\n",
    "representative_genomes[\"taxonomy\"] = GEMs_taxonomy.loc[representative_genomes.index,\"taxonomy\"]"
   ]
  },
  {
   "cell_type": "code",
   "execution_count": 103,
   "id": "a43834ce-aa3b-4119-a988-2e826cbb5882",
   "metadata": {
    "tags": []
   },
   "outputs": [],
   "source": [
    "representative_genomes.to_csv(\"genome-information.txt\",sep=\"\\t\")"
   ]
  },
  {
   "cell_type": "code",
   "execution_count": 87,
   "id": "a32e79b2-bdc6-43f7-b5f5-73274fdad37c",
   "metadata": {
    "tags": []
   },
   "outputs": [],
   "source": [
    "detected_rho_proteins = rho_domains_full['protein id'].to_dict()"
   ]
  },
  {
   "cell_type": "code",
   "execution_count": 88,
   "id": "8b73e0b3-4b75-4989-942e-4619b87988e2",
   "metadata": {
    "tags": []
   },
   "outputs": [],
   "source": [
    "representative_genomes[\"rho homologs\"] = representative_genomes.index.map(lambda x:detected_rho_proteins.get(x,\".\"))"
   ]
  },
  {
   "cell_type": "code",
   "execution_count": 89,
   "id": "65505953-a401-4223-9d89-5da5359386f3",
   "metadata": {
    "tags": []
   },
   "outputs": [],
   "source": [
    "representative_genomes[\"phylum\"] = representative_genomes[\"taxonomy\"].map(lambda x:x.split(\";\")[1][3:])"
   ]
  },
  {
   "cell_type": "code",
   "execution_count": 90,
   "id": "00f1a005-7e98-485a-aada-5150fd13145b",
   "metadata": {
    "tags": []
   },
   "outputs": [],
   "source": [
    "representative_genomes_refseq = representative_genomes[representative_genomes[\"study\"] == \"NCBI-RefSeq\"]"
   ]
  },
  {
   "cell_type": "code",
   "execution_count": 100,
   "id": "398455f8-3440-49aa-9127-072937292227",
   "metadata": {
    "tags": []
   },
   "outputs": [
    {
     "data": {
      "text/plain": [
       "'NZ_FNTS01000002.1_3039'"
      ]
     },
     "execution_count": 100,
     "metadata": {},
     "output_type": "execute_result"
    }
   ],
   "source": [
    "detected_rho_proteins[\"OTU-21876\"]"
   ]
  },
  {
   "cell_type": "code",
   "execution_count": 128,
   "id": "1a9eaa68-e85e-4869-8f7d-dbc8835f477d",
   "metadata": {
    "tags": []
   },
   "outputs": [],
   "source": [
    "indir = \"data/rho-downstream-sequences\"\n",
    "otu_id2sequence = {}\n",
    "for fasta in os.listdir(indir):\n",
    "    path = os.path.join(indir, fasta)\n",
    "    with open(path) as f:\n",
    "        for header in f:\n",
    "            otu_id = header[1:].split(\":\")[0]\n",
    "            sequence = next(f)\n",
    "            otu_id2sequence[otu_id] = sequence.strip()"
   ]
  },
  {
   "cell_type": "code",
   "execution_count": 129,
   "id": "26356962-2e86-445e-bfbc-ae464af11dba",
   "metadata": {
    "tags": []
   },
   "outputs": [],
   "source": [
    "representative_genomes[\"downstream sequences\"] = representative_genomes.index.map(lambda x:otu_id2sequence.get(x,\".\"))\n",
    "representative_genomes_with_rho_downstream = representative_genomes.sort_values(by=\"taxonomy\").copy()\n",
    "representative_genomes_with_rho_downstream = representative_genomes_with_rho_downstream[representative_genomes_with_rho_downstream['downstream sequences'] != \".\"]"
   ]
  },
  {
   "cell_type": "code",
   "execution_count": 130,
   "id": "26cc61ff-d468-42eb-b2ed-c0dc9246dd17",
   "metadata": {
    "tags": []
   },
   "outputs": [],
   "source": [
    "representative_genomes_with_rho_downstream.to_csv(\"rho-downstream-sequences.txt\",sep=\"\\t\")"
   ]
  },
  {
   "cell_type": "code",
   "execution_count": 163,
   "id": "8b5d4159-b75f-4890-b554-c7ccb483efd5",
   "metadata": {
    "tags": []
   },
   "outputs": [
    {
     "data": {
      "text/plain": [
       "3.664"
      ]
     },
     "execution_count": 163,
     "metadata": {},
     "output_type": "execute_result"
    }
   ],
   "source": []
  },
  {
   "cell_type": "code",
   "execution_count": 414,
   "id": "29864425-fcac-4f50-aff0-76e3ecfb032b",
   "metadata": {},
   "outputs": [],
   "source": [
    "def extract_score(chunk_id, otu_id):    \n",
    "    best_scores = {}\n",
    "    best_prediction = {}\n",
    "    distances = np.zeros(500)\n",
    "    bed = f\"data/RUTs/{chunk_id}/{otu_id}.bed\"\n",
    "    with open(bed) as f:\n",
    "        for line in f:\n",
    "            fields = line.strip().split(\"\\t\")\n",
    "            seq_id = fields[0]\n",
    "            p = seq_id.rfind(\":\")\n",
    "            protein_id = seq_id[p+1:]\n",
    "            seq_id = seq_id[:p]        \n",
    "            fields[0] = seq_id\n",
    "            start, end = int(fields[1]), int(fields[2])\n",
    "            score = float(fields[6])        \n",
    "            if (protein_id not in best_scores) or (best_scores[protein_id] < score):\n",
    "                best_scores[protein_id] = score\n",
    "                best_prediction[protein_id] = fields  \n",
    "    N = 0\n",
    "    with open(f\"data/terminators-flanking/{chunk_id}/{otu_id}.fa.fai\") as f:\n",
    "        for line in f:\n",
    "            N += 1\n",
    "\n",
    "    combined_score = 0            \n",
    "    for protein_id in best_prediction:\n",
    "        fields = best_prediction[protein_id]\n",
    "        seq_id = fields[0]\n",
    "        s, e = seq_id[:-3].split(\":\")[-1].split(\"-\")\n",
    "        s, e = int(s), int(e)\n",
    "        length = e - s\n",
    "        # offset is end of the stem loop\n",
    "        offset = length - 300\n",
    "        start, end = int(fields[1]), int(fields[2])\n",
    "        #start, end = start - offset, end - offset \n",
    "        score = float(fields[6])    \n",
    "        #print(score)\n",
    "        combined_score += score\n",
    "        if start < 0:\n",
    "            continue    \n",
    "        distances[start:end] += 1  \n",
    "    #print(combined_score/N)    \n",
    "    fig, ax = plt.subplots(figsize=(4,3))            \n",
    "    ax.plot(distances)\n",
    "    ax.set_xlim([0,200])\n",
    "    return combined_score/N"
   ]
  },
  {
   "cell_type": "code",
   "execution_count": 415,
   "id": "373164f2-80fb-49a0-9363-cd5ab8609a24",
   "metadata": {
    "tags": []
   },
   "outputs": [
    {
     "data": {
      "text/plain": [
       "1.367462568472308"
      ]
     },
     "execution_count": 415,
     "metadata": {},
     "output_type": "execute_result"
    },
    {
     "data": {
      "image/png": "[encoded data removed]",
      "text/plain": [
       "<Figure size 400x300 with 1 Axes>"
      ]
     },
     "metadata": {},
     "output_type": "display_data"
    }
   ],
   "source": [
    "extract_score(\"239\",\"OTU-23934\")"
   ]
  },
  {
   "cell_type": "code",
   "execution_count": 416,
   "id": "c9d9791b-3e73-4016-a12f-5f0039dc9743",
   "metadata": {
    "tags": []
   },
   "outputs": [],
   "source": [
    "genome_information = pd.read_csv(\"genome-information.txt\",sep=\"\\t\",index_col=0)"
   ]
  },
  {
   "cell_type": "code",
   "execution_count": 426,
   "id": "2294dff5-d6bf-4823-8dcf-49e8ed6283dd",
   "metadata": {
    "tags": []
   },
   "outputs": [],
   "source": [
    "checkm = pd.read_csv(\"/data2/lulab1/microbiome/MAGs/GEMs/metadata/genome_to_checkm.tsv\",sep=\"\\t\",index_col=0)"
   ]
  },
  {
   "cell_type": "code",
   "execution_count": 432,
   "id": "6ab507ab-a7ff-4483-8289-cfdd5c25a66e",
   "metadata": {
    "tags": []
   },
   "outputs": [],
   "source": [
    "genome_information.loc[:,\"completeness\"] = checkm.loc[genome_information['genome_id'].values,\"completeness\"].values\n",
    "genome_information.loc[:,\"contamination\"] = checkm.loc[genome_information['genome_id'].values,\"contamination\"].values"
   ]
  },
  {
   "cell_type": "code",
   "execution_count": 418,
   "id": "e272c9f6-e49a-4114-9f5d-1aab5fbea7cf",
   "metadata": {},
   "outputs": [],
   "source": [
    "otu_id2score = {}\n",
    "for txt in os.listdir(\"data/RUT-scores\"):\n",
    "    path = os.path.join(\"data/RUT-scores\",txt)\n",
    "    with open(path) as f:\n",
    "        for line in f:\n",
    "            otu_id, score, axtonomy = line.strip().split(\"\\t\")\n",
    "            otu_id2score[otu_id] = float(score)"
   ]
  },
  {
   "cell_type": "code",
   "execution_count": 422,
   "id": "fe1d3b88-e61b-46d0-833c-9a2a94f0b78c",
   "metadata": {
    "tags": []
   },
   "outputs": [],
   "source": [
    "genome_information[\"rho scores\"] = genome_information.index.map(lambda x:otu_id2score.get(x,np.nan))"
   ]
  },
  {
   "cell_type": "code",
   "execution_count": 1560,
   "id": "e16e8be2-81d4-4760-9777-53c507a4d55e",
   "metadata": {
    "tags": []
   },
   "outputs": [
    {
     "data": {
      "text/plain": [
       "'/BioII/lulab_b/jinyunfan/projects/terminator-prediction/terminator-evoluationary-analysis'"
      ]
     },
     "execution_count": 1560,
     "metadata": {},
     "output_type": "execute_result"
    }
   ],
   "source": [
    "pwd"
   ]
  },
  {
   "cell_type": "code",
   "execution_count": 435,
   "id": "4cb6c81f-3657-4ddb-a4c3-5ee6ed183bfe",
   "metadata": {
    "tags": []
   },
   "outputs": [],
   "source": [
    "metadata = pd.read_csv(\"data/terminators/000/OTU-10.txt\",sep=\"\\t\",index_col=0)"
   ]
  },
  {
   "cell_type": "code",
   "execution_count": 465,
   "id": "08571f7b-a4f3-4d3a-b179-d522afa72ea6",
   "metadata": {
    "tags": []
   },
   "outputs": [],
   "source": []
  },
  {
   "cell_type": "code",
   "execution_count": 466,
   "id": "c153231a-566c-4f42-ac4e-aaf3b88339cc",
   "metadata": {
    "tags": []
   },
   "outputs": [],
   "source": []
  },
  {
   "cell_type": "code",
   "execution_count": 469,
   "id": "d5f3ef7a-1f8a-4727-bd47-14bc0334a5a9",
   "metadata": {
    "tags": []
   },
   "outputs": [],
   "source": [
    "CDS_counts = {}\n",
    "for chunk_id in os.listdir(\"data/CDS\"):\n",
    "    for bed in os.listdir(f\"data/CDS/{chunk_id}\"):\n",
    "        path = f\"data/CDS/{chunk_id}/{bed}\"\n",
    "        otu_id = bed[:-4]\n",
    "        N = 0\n",
    "        with open(path) as f:\n",
    "            for line in f:\n",
    "                N += 1\n",
    "        CDS_counts[otu_id] = N"
   ]
  },
  {
   "cell_type": "code",
   "execution_count": 460,
   "id": "b25fd07e-1129-4665-b89d-4ca8e28fc617",
   "metadata": {
    "tags": []
   },
   "outputs": [],
   "source": [
    "genome_information = genome_information.join(stem_loop_statistics)"
   ]
  },
  {
   "cell_type": "code",
   "execution_count": 472,
   "id": "b413a5ab-b94b-4088-9669-b798d675a42a",
   "metadata": {
    "tags": []
   },
   "outputs": [],
   "source": [
    "CDS_counts = pd.Series(CDS_counts)\n",
    "genome_information.loc[:,\"CDS counts\"] = CDS_counts.loc[genome_information.index]"
   ]
  },
  {
   "cell_type": "code",
   "execution_count": 479,
   "id": "54f6882e-baa3-4028-ba16-73af22836da6",
   "metadata": {
    "tags": []
   },
   "outputs": [],
   "source": [
    "from collections import defaultdict"
   ]
  },
  {
   "cell_type": "code",
   "execution_count": 480,
   "id": "93703571-94a2-4dda-9147-09969d17adb2",
   "metadata": {
    "tags": []
   },
   "outputs": [
    {
     "name": "stdout",
     "output_type": "stream",
     "text": [
      "000\n",
      "001\n",
      "002\n",
      "003\n",
      "004\n",
      "005\n",
      "006\n",
      "007\n",
      "008\n",
      "009\n",
      "010\n",
      "011\n",
      "012\n",
      "013\n",
      "014\n",
      "015\n",
      "016\n",
      "017\n",
      "018\n",
      "019\n",
      "020\n",
      "021\n",
      "022\n",
      "023\n",
      "024\n",
      "025\n",
      "026\n",
      "027\n",
      "028\n",
      "029\n",
      "030\n",
      "031\n",
      "032\n",
      "033\n",
      "034\n",
      "035\n",
      "036\n",
      "037\n",
      "038\n",
      "039\n",
      "040\n",
      "041\n",
      "042\n",
      "043\n",
      "044\n",
      "045\n",
      "046\n",
      "047\n",
      "048\n",
      "049\n",
      "050\n",
      "051\n",
      "052\n",
      "053\n",
      "054\n",
      "055\n",
      "056\n",
      "057\n",
      "058\n",
      "059\n",
      "060\n",
      "061\n",
      "062\n",
      "063\n",
      "064\n",
      "065\n",
      "066\n",
      "067\n",
      "068\n",
      "069\n",
      "070\n",
      "071\n",
      "072\n",
      "073\n",
      "074\n",
      "075\n",
      "076\n",
      "077\n",
      "078\n",
      "079\n",
      "080\n",
      "081\n",
      "082\n",
      "083\n",
      "084\n",
      "085\n",
      "086\n",
      "087\n",
      "088\n",
      "089\n",
      "090\n",
      "091\n",
      "092\n",
      "093\n",
      "094\n",
      "095\n",
      "096\n",
      "097\n",
      "098\n",
      "099\n",
      "100\n",
      "101\n",
      "102\n",
      "103\n",
      "104\n",
      "105\n",
      "106\n",
      "107\n",
      "108\n",
      "109\n",
      "110\n",
      "111\n",
      "112\n",
      "113\n",
      "114\n",
      "115\n",
      "116\n",
      "117\n",
      "118\n",
      "119\n",
      "120\n",
      "121\n",
      "122\n",
      "123\n",
      "124\n",
      "125\n",
      "126\n",
      "127\n",
      "128\n",
      "129\n",
      "130\n",
      "131\n",
      "132\n",
      "133\n",
      "134\n",
      "135\n",
      "136\n",
      "137\n",
      "138\n",
      "139\n",
      "140\n",
      "141\n",
      "142\n",
      "143\n",
      "144\n",
      "145\n",
      "146\n",
      "147\n",
      "148\n",
      "149\n",
      "150\n",
      "151\n",
      "152\n",
      "153\n",
      "154\n",
      "155\n",
      "156\n",
      "157\n",
      "158\n",
      "159\n",
      "160\n",
      "161\n",
      "162\n",
      "163\n",
      "164\n",
      "165\n",
      "166\n",
      "167\n",
      "168\n",
      "169\n",
      "170\n",
      "171\n",
      "172\n",
      "173\n",
      "174\n",
      "175\n",
      "176\n",
      "177\n",
      "178\n",
      "179\n",
      "180\n",
      "181\n",
      "182\n",
      "183\n",
      "184\n",
      "185\n",
      "186\n",
      "187\n",
      "188\n",
      "189\n",
      "190\n",
      "191\n",
      "192\n",
      "193\n",
      "194\n",
      "195\n",
      "196\n",
      "197\n",
      "198\n",
      "199\n",
      "200\n",
      "201\n",
      "202\n",
      "203\n",
      "204\n",
      "205\n",
      "206\n",
      "207\n",
      "208\n",
      "209\n",
      "210\n",
      "211\n",
      "212\n",
      "213\n",
      "214\n",
      "215\n",
      "216\n",
      "217\n",
      "218\n",
      "219\n",
      "220\n",
      "221\n",
      "222\n",
      "223\n",
      "224\n",
      "225\n",
      "226\n",
      "227\n",
      "228\n",
      "229\n",
      "230\n",
      "231\n",
      "232\n",
      "233\n",
      "234\n",
      "235\n",
      "236\n",
      "237\n",
      "238\n",
      "239\n",
      "240\n",
      "241\n",
      "242\n",
      "243\n",
      "244\n",
      "245\n",
      "246\n",
      "247\n",
      "248\n",
      "249\n",
      "250\n",
      "251\n",
      "252\n",
      "253\n",
      "254\n",
      "255\n",
      "256\n",
      "257\n",
      "258\n",
      "259\n",
      "260\n",
      "261\n",
      "262\n",
      "263\n",
      "264\n",
      "265\n",
      "266\n",
      "267\n",
      "268\n",
      "269\n",
      "270\n",
      "271\n",
      "272\n",
      "273\n",
      "274\n",
      "275\n",
      "276\n",
      "277\n",
      "278\n",
      "279\n",
      "280\n",
      "281\n",
      "282\n",
      "283\n",
      "284\n",
      "285\n",
      "286\n",
      "287\n",
      "288\n",
      "289\n",
      "290\n",
      "291\n",
      "292\n",
      "293\n",
      "294\n",
      "295\n",
      "296\n",
      "297\n",
      "298\n",
      "299\n",
      "300\n",
      "301\n",
      "302\n",
      "303\n",
      "304\n",
      "305\n",
      "306\n",
      "307\n",
      "308\n",
      "309\n",
      "310\n",
      "311\n",
      "312\n",
      "313\n",
      "314\n",
      "315\n",
      "316\n",
      "317\n",
      "318\n",
      "319\n",
      "320\n",
      "321\n",
      "322\n",
      "323\n",
      "324\n",
      "325\n",
      "326\n",
      "327\n",
      "328\n",
      "329\n",
      "330\n",
      "331\n",
      "332\n",
      "333\n",
      "334\n",
      "335\n",
      "336\n",
      "337\n",
      "338\n",
      "339\n",
      "340\n",
      "341\n",
      "342\n",
      "343\n",
      "344\n",
      "345\n",
      "346\n",
      "347\n",
      "348\n",
      "349\n",
      "350\n",
      "351\n",
      "352\n",
      "353\n",
      "354\n",
      "355\n",
      "356\n",
      "357\n",
      "358\n",
      "359\n",
      "360\n",
      "361\n",
      "362\n",
      "363\n",
      "364\n",
      "365\n",
      "366\n",
      "367\n",
      "368\n",
      "369\n",
      "370\n",
      "371\n",
      "372\n",
      "373\n",
      "374\n",
      "375\n",
      "376\n",
      "377\n",
      "378\n",
      "379\n",
      "380\n",
      "381\n",
      "382\n",
      "383\n",
      "384\n",
      "385\n",
      "386\n",
      "387\n",
      "388\n",
      "389\n",
      "390\n",
      "391\n",
      "392\n",
      "393\n",
      "394\n",
      "395\n",
      "396\n",
      "397\n",
      "398\n",
      "399\n",
      "400\n",
      "401\n",
      "402\n",
      "403\n",
      "404\n",
      "405\n",
      "406\n",
      "407\n",
      "408\n",
      "409\n",
      "410\n",
      "411\n",
      "412\n",
      "413\n",
      "414\n",
      "415\n",
      "416\n",
      "417\n",
      "418\n",
      "419\n",
      "420\n",
      "421\n",
      "422\n",
      "423\n",
      "424\n",
      "425\n",
      "426\n",
      "427\n",
      "428\n",
      "429\n",
      "430\n",
      "431\n",
      "432\n",
      "433\n",
      "434\n",
      "435\n",
      "436\n",
      "437\n",
      "438\n",
      "439\n",
      "440\n",
      "441\n",
      "442\n",
      "443\n",
      "444\n",
      "445\n",
      "446\n",
      "447\n",
      "448\n",
      "449\n",
      "450\n",
      "451\n",
      "452\n",
      "453\n",
      "454\n",
      "455\n"
     ]
    }
   ],
   "source": [
    "lengths = {}\n",
    "for chunk_id in sorted(os.listdir(\"data/lengths\")):\n",
    "    print(chunk_id)\n",
    "    for size in os.listdir(f\"data/lengths/{chunk_id}\"):\n",
    "        path = f\"data/lengths/{chunk_id}/{size}\"\n",
    "        otu_id = size[:-5]\n",
    "        length = 0\n",
    "        with open(path) as f:\n",
    "            for line in f:\n",
    "                length += int(line.strip().split(\"\\t\")[-1])\n",
    "        lengths[otu_id] = length"
   ]
  },
  {
   "cell_type": "code",
   "execution_count": 483,
   "id": "fa2c107a-a1b6-4842-a690-2eb3179c315a",
   "metadata": {
    "tags": []
   },
   "outputs": [],
   "source": [
    "lengths = pd.Series(lengths)"
   ]
  },
  {
   "cell_type": "code",
   "execution_count": 484,
   "id": "ff9bab17-a95f-4365-baa3-a4dac7ce0194",
   "metadata": {
    "tags": []
   },
   "outputs": [],
   "source": [
    "genome_information.loc[:,\"genome size\"] = lengths.loc[genome_information.index]"
   ]
  },
  {
   "cell_type": "code",
   "execution_count": 493,
   "id": "767320b2-71b5-46ca-82bc-9cf202a58cc8",
   "metadata": {
    "tags": []
   },
   "outputs": [],
   "source": [
    "genome_information = genome_information.join(stem_loop_statistics)"
   ]
  },
  {
   "cell_type": "code",
   "execution_count": 494,
   "id": "b26506ed-59a9-46bc-89d6-1f9331046e4c",
   "metadata": {
    "tags": []
   },
   "outputs": [],
   "source": [
    "genome_information.to_csv(\"combined-statistics.txt\",sep=\"\\t\")"
   ]
  },
  {
   "cell_type": "code",
   "execution_count": 506,
   "id": "9ea99cdd-6b62-456a-8ed2-fb7e5701c084",
   "metadata": {
    "tags": []
   },
   "outputs": [],
   "source": [
    "import seaborn as sns"
   ]
  },
  {
   "cell_type": "code",
   "execution_count": 597,
   "id": "8856476c-eeb3-464b-9ee1-c1a3e9c3bb7b",
   "metadata": {
    "tags": []
   },
   "outputs": [],
   "source": [
    "def categorize_U_counts(x):\n",
    "    if x <= 3:\n",
    "        return \"<=3\"\n",
    "    elif x <= 5:\n",
    "        return \"4-5\"\n",
    "    elif x <= 7:\n",
    "        return \"6-7\"\n",
    "    elif x <= 9:\n",
    "        return \"8-9\"\n",
    "    else:\n",
    "        return \">=10\""
   ]
  },
  {
   "cell_type": "code",
   "execution_count": 587,
   "id": "fbd96a3e-268c-4abb-a3df-527cdced529a",
   "metadata": {
    "tags": []
   },
   "outputs": [],
   "source": [
    "from pandas.api.types import CategoricalDtype"
   ]
  },
  {
   "cell_type": "code",
   "execution_count": 825,
   "id": "9cd2579e-7cf0-4500-a68b-8e232829431d",
   "metadata": {
    "tags": []
   },
   "outputs": [],
   "source": [
    "mask1 = genome_information['contamination'] < 5\n",
    "mask2 = genome_information['completeness'] > 95\n",
    "mask3 = ~genome_information['U count'].isna()\n",
    "mask4 = genome_information[\"taxonomy\"].map(lambda x:x.startswith(\"d__Bacteria\"))\n",
    "mask5 = genome_information[\"type\"] == \"isolate\""
   ]
  },
  {
   "cell_type": "code",
   "execution_count": 817,
   "id": "65eac774-1fb1-43f0-80eb-a946eb32873c",
   "metadata": {
    "tags": []
   },
   "outputs": [
    {
     "data": {
      "text/html": [
       "<div>\n",
       "<style scoped>\n",
       "    .dataframe tbody tr th:only-of-type {\n",
       "        vertical-align: middle;\n",
       "    }\n",
       "\n",
       "    .dataframe tbody tr th {\n",
       "        vertical-align: top;\n",
       "    }\n",
       "\n",
       "    .dataframe thead th {\n",
       "        text-align: right;\n",
       "    }\n",
       "</style>\n",
       "<table border=\"1\" class=\"dataframe\">\n",
       "  <thead>\n",
       "    <tr style=\"text-align: right;\">\n",
       "      <th></th>\n",
       "      <th>genome_id</th>\n",
       "      <th>type</th>\n",
       "      <th>study</th>\n",
       "      <th>taxonomy</th>\n",
       "      <th>rho homologs</th>\n",
       "      <th>phylum</th>\n",
       "      <th>rho scores</th>\n",
       "      <th>completeness</th>\n",
       "      <th>contamination</th>\n",
       "      <th>CDS counts</th>\n",
       "      <th>genome size</th>\n",
       "      <th>stem length</th>\n",
       "      <th>loop length</th>\n",
       "      <th>U count</th>\n",
       "      <th>number</th>\n",
       "      <th>contain rho</th>\n",
       "      <th>U lengths</th>\n",
       "    </tr>\n",
       "    <tr>\n",
       "      <th>otu_id</th>\n",
       "      <th></th>\n",
       "      <th></th>\n",
       "      <th></th>\n",
       "      <th></th>\n",
       "      <th></th>\n",
       "      <th></th>\n",
       "      <th></th>\n",
       "      <th></th>\n",
       "      <th></th>\n",
       "      <th></th>\n",
       "      <th></th>\n",
       "      <th></th>\n",
       "      <th></th>\n",
       "      <th></th>\n",
       "      <th></th>\n",
       "      <th></th>\n",
       "      <th></th>\n",
       "    </tr>\n",
       "  </thead>\n",
       "  <tbody>\n",
       "  </tbody>\n",
       "</table>\n",
       "</div>"
      ],
      "text/plain": [
       "Empty DataFrame\n",
       "Columns: [genome_id, type, study, taxonomy, rho homologs, phylum, rho scores, completeness, contamination, CDS counts, genome size, stem length, loop length, U count, number, contain rho, U lengths]\n",
       "Index: []"
      ]
     },
     "execution_count": 817,
     "metadata": {},
     "output_type": "execute_result"
    }
   ],
   "source": [
    "passed_genome_information[passed_genome_information[\"rho scores\"].isna()]"
   ]
  },
  {
   "cell_type": "code",
   "execution_count": 826,
   "id": "a385296a-9b0f-4373-8fb7-1fd7bba39635",
   "metadata": {
    "tags": []
   },
   "outputs": [
    {
     "name": "stderr",
     "output_type": "stream",
     "text": [
      "/tmp/ipykernel_127935/2151455385.py:2: SettingWithCopyWarning: \n",
      "A value is trying to be set on a copy of a slice from a DataFrame.\n",
      "Try using .loc[row_indexer,col_indexer] = value instead\n",
      "\n",
      "See the caveats in the documentation: https://pandas.pydata.org/pandas-docs/stable/user_guide/indexing.html#returning-a-view-versus-a-copy\n",
      "  passed_genome_information.loc[:,\"contain rho\"] = (passed_genome_information.loc[:,\"rho homologs\"]!=\".\").astype(int)\n",
      "/tmp/ipykernel_127935/2151455385.py:3: SettingWithCopyWarning: \n",
      "A value is trying to be set on a copy of a slice from a DataFrame.\n",
      "Try using .loc[row_indexer,col_indexer] = value instead\n",
      "\n",
      "See the caveats in the documentation: https://pandas.pydata.org/pandas-docs/stable/user_guide/indexing.html#returning-a-view-versus-a-copy\n",
      "  passed_genome_information.loc[:,\"U lengths\"] = passed_genome_information.loc[:,\"U count\"].map(categorize_U_counts).copy()\n"
     ]
    }
   ],
   "source": [
    "passed_genome_information = genome_information[mask1&mask2&mask3&mask4&mask5]\n",
    "passed_genome_information.loc[:,\"contain rho\"] = (passed_genome_information.loc[:,\"rho homologs\"]!=\".\").astype(int)\n",
    "passed_genome_information.loc[:,\"U lengths\"] = passed_genome_information.loc[:,\"U count\"].map(categorize_U_counts).copy()\n",
    "U_lengths_cat = CategoricalDtype(categories=[\"<=3\",\"4-5\",\"6-7\",\"8-9\",\">=10\"], ordered=True)\n",
    "passed_genome_information.loc[:,'U lengths'] = passed_genome_information.loc[:,'U lengths'].astype(U_lengths_cat)\n",
    "passed_genome_information = passed_genome_information.sort_values(by=\"U lengths\")"
   ]
  },
  {
   "cell_type": "code",
   "execution_count": 1557,
   "id": "acc23961-2d82-4976-857f-d521ca8241b3",
   "metadata": {
    "tags": []
   },
   "outputs": [],
   "source": [
    "groupped_rho_dependency_scores = list(passed_genome_information.groupby(\"U lengths\").apply(lambda x:list(x[\"rho scores\"].values)).values)"
   ]
  },
  {
   "cell_type": "code",
   "execution_count": 1559,
   "id": "457776ff-b0a6-4747-a4b4-473b0562b804",
   "metadata": {
    "tags": []
   },
   "outputs": [
    {
     "data": {
      "text/plain": [
       "KruskalResult(statistic=13234.522686809112, pvalue=0.0)"
      ]
     },
     "execution_count": 1559,
     "metadata": {},
     "output_type": "execute_result"
    }
   ],
   "source": [
    "kruskal(*groupped_rho_dependency_scores)"
   ]
  },
  {
   "cell_type": "code",
   "execution_count": 828,
   "id": "dd69319d-7808-45a5-a3f5-e7c1117e1351",
   "metadata": {
    "tags": []
   },
   "outputs": [
    {
     "data": {
      "image/png": "[encoded data removed]",
      "text/plain": [
       "<Figure size 300x300 with 1 Axes>"
      ]
     },
     "metadata": {},
     "output_type": "display_data"
    }
   ],
   "source": [
    "fig, ax = plt.subplots(figsize=(3,3))\n",
    "sns.boxplot(data=passed_genome_information.sort_values(by=\"U lengths\"),\n",
    "            x=\"U lengths\",y=\"rho scores\",ax=ax,order=[\"<=3\",\"4-5\",\"6-7\",\"8-9\",\">=10\"],\n",
    "            color=\"#5875A3\",width=0.4,fliersize=0)\n",
    "#sns.stripplot(data=passed_genome_information.sort_values(by=\"U lengths\"),\n",
    "#            x=\"U lengths\",y=\"rho scores\",ax=ax,order=[\"<=3\",\"4-5\",\"6-7\",\"8-9\",\">=10\"],\n",
    "#            color=\"black\",s=0.3,jitter=0.2,alpha=0.1)\n",
    "ax.set_xlabel(\"# of consecutive Us\")\n",
    "ax.set_ylabel(\"Rho dependency scores\")\n",
    "plt.savefig(\"figures/U-length-rho-dependency-score-association.pdf\",bbox_inches=\"tight\")"
   ]
  },
  {
   "cell_type": "code",
   "execution_count": 1549,
   "id": "7a494a48-9db2-4928-8bdf-895f53a020a6",
   "metadata": {
    "tags": []
   },
   "outputs": [],
   "source": [
    "x = passed_genome_information[passed_genome_information['contain rho'] == 0]['rho scores'].values\n",
    "y = passed_genome_information[passed_genome_information['contain rho'] == 1]['rho scores'].values"
   ]
  },
  {
   "cell_type": "code",
   "execution_count": 1550,
   "id": "38aa7759-7d16-4d6c-9ffb-fde843e20487",
   "metadata": {
    "tags": []
   },
   "outputs": [],
   "source": []
  },
  {
   "cell_type": "code",
   "execution_count": null,
   "id": "8238a109-38ab-4a3a-81b1-f8d6da3c9a0f",
   "metadata": {},
   "outputs": [],
   "source": []
  },
  {
   "cell_type": "code",
   "execution_count": 1551,
   "id": "2d509c7f-776c-40d9-8827-b5d9bbfc9efb",
   "metadata": {
    "tags": []
   },
   "outputs": [
    {
     "data": {
      "text/plain": [
       "RanksumsResult(statistic=-34.6758278790271, pvalue=1.8233870292614654e-263)"
      ]
     },
     "execution_count": 1551,
     "metadata": {},
     "output_type": "execute_result"
    }
   ],
   "source": [
    "ranksums(x,y)"
   ]
  },
  {
   "cell_type": "code",
   "execution_count": 846,
   "id": "2aad5483-d5fb-4501-a7ba-00d5e7b3d940",
   "metadata": {
    "tags": []
   },
   "outputs": [
    {
     "data": {
      "image/png": "[encoded data removed]",
      "text/plain": [
       "<Figure size 150x300 with 1 Axes>"
      ]
     },
     "metadata": {},
     "output_type": "display_data"
    }
   ],
   "source": [
    "fig, ax = plt.subplots(figsize=(1.5,3))\n",
    "sns.violinplot(data=passed_genome_information,x=\"contain rho\",y=\"rho scores\",ax=ax,width=0.5,palette=[\"#DDDDDD\",\"#7C99C9\"])\n",
    "ax.set_xticklabels([\"Rho absent\",\"Rho present\"])\n",
    "ax.set_ylabel(\"Rho dependency scores\")\n",
    "_ = plt.setp(ax.get_xticklabels(),fontsize=10,rotation_mode=\"anchor\",ha=\"right\",rotation=45)\n",
    "plt.savefig(\"figures/rho-presence-score-association.pdf\",bbox_inches=\"tight\")"
   ]
  },
  {
   "cell_type": "code",
   "execution_count": 830,
   "id": "005aef1b-05e2-4fb6-8bf7-029cd50f55be",
   "metadata": {
    "tags": []
   },
   "outputs": [],
   "source": [
    "passed_genome_information_wt_rho = passed_genome_information[passed_genome_information[\"contain rho\"] == 1]\n",
    "passed_genome_information_wo_rho = passed_genome_information[passed_genome_information[\"contain rho\"] == 0]"
   ]
  },
  {
   "cell_type": "code",
   "execution_count": 844,
   "id": "da6bbda8-2cc2-4f24-a3c0-1f33444a4db4",
   "metadata": {
    "tags": []
   },
   "outputs": [
    {
     "data": {
      "image/png": "[encoded data removed]",
      "text/plain": [
       "<Figure size 400x300 with 1 Axes>"
      ]
     },
     "metadata": {},
     "output_type": "display_data"
    }
   ],
   "source": [
    "phylum_wt_rho_to_visualize = passed_genome_information_wt_rho.groupby(\"phylum\").apply(lambda x:x.shape[0]).sort_values(ascending=False).index[:8]\n",
    "passed_genome_information_wt_rho_to_show = passed_genome_information_wt_rho[passed_genome_information_wt_rho[\"phylum\"].isin(phylum_wt_rho_to_visualize)]\n",
    "order = passed_genome_information_wt_rho_to_show.groupby(\"phylum\").apply(lambda x:x['rho scores'].median()).sort_values(ascending=False).index\n",
    "fig, ax = plt.subplots(figsize=(4,3))\n",
    "sns.violinplot(data=passed_genome_information_wt_rho_to_show,x=\"phylum\",y=\"rho scores\",ax=ax,order=order,width=1.3,\n",
    "               color=\"#7C99C9\",edgecolor=\"black\")#palette=sns.color_palette(\"Blues\"))\n",
    "ax.set_xlim([-1,7.5])\n",
    "_ = plt.setp(ax.get_xticklabels(),fontsize=10,rotation_mode=\"anchor\",ha=\"right\",rotation=45)\n",
    "ax.set_ylabel(\"Rho dependency scores\")\n",
    "plt.savefig(\"figures/with-rho-score-by-clade.pdf\",bbox_inches=\"tight\")"
   ]
  },
  {
   "cell_type": "code",
   "execution_count": 832,
   "id": "903d3e8e-679e-4f39-a8b8-e8b3407fefb0",
   "metadata": {
    "tags": []
   },
   "outputs": [],
   "source": [
    "phylum_wo_rho_to_visualize = passed_genome_information_wo_rho.groupby(\"phylum\").apply(lambda x:x.shape[0]).sort_values(ascending=False).index[:4]\n",
    "passed_genome_information_wo_rho_to_show = passed_genome_information_wo_rho[passed_genome_information_wo_rho[\"phylum\"].isin(phylum_wo_rho_to_visualize)]"
   ]
  },
  {
   "cell_type": "code",
   "execution_count": 845,
   "id": "1842c0a8-96c6-497e-b3cf-802cf59a2a14",
   "metadata": {
    "tags": []
   },
   "outputs": [
    {
     "data": {
      "image/png": "[encoded data removed]",
      "text/plain": [
       "<Figure size 170x300 with 1 Axes>"
      ]
     },
     "metadata": {},
     "output_type": "display_data"
    }
   ],
   "source": [
    "fig, ax = plt.subplots(figsize=(1.7,3))\n",
    "sns.violinplot(data=passed_genome_information_wo_rho_to_show,x=\"phylum\",y=\"rho scores\",order=['Cyanobacteria', 'Firmicutes_A', 'Firmicutes_C', 'Firmicutes'],\n",
    "               ax=ax,color=\"#DDDDDD\")#,palette=sns.color_palette(\"Blues\"))\n",
    "_ = plt.setp(ax.get_xticklabels(),fontsize=10,rotation_mode=\"anchor\",ha=\"right\",rotation=45)\n",
    "ax.set_ylabel(\"Rho dependency scores\")\n",
    "plt.savefig(\"figures/without-rho-score-by-clade.pdf\",bbox_inches=\"tight\")"
   ]
  },
  {
   "cell_type": "code",
   "execution_count": 837,
   "id": "3100cd21-ad5a-4ea2-ac1c-3cef2949f611",
   "metadata": {
    "tags": []
   },
   "outputs": [
    {
     "name": "stdout",
     "output_type": "stream",
     "text": [
      "15539 considered-genome-ids.txt\n"
     ]
    }
   ],
   "source": [
    "!wc -l considered-genome-ids.txt"
   ]
  },
  {
   "cell_type": "code",
   "execution_count": 835,
   "id": "fd4b662d-1728-402f-9a76-9867b12fa962",
   "metadata": {
    "tags": []
   },
   "outputs": [],
   "source": [
    "with open(\"considered-genome-ids.txt\",\"w\") as f:\n",
    "    f.write(\"\\n\".join(passed_genome_information.index))"
   ]
  },
  {
   "cell_type": "code",
   "execution_count": 734,
   "id": "794fd3bb-2cf6-4a18-a6f1-9e1dda40c9de",
   "metadata": {
    "tags": []
   },
   "outputs": [],
   "source": [
    "#DATASET_SCALE,1-line 1-#dddddd-1-1-1,2-line 2-#ff0000-1-0-2,3-line 3-#00ff00-5-1-1\n",
    "#1-line 1-#dddddd-1-1-1\n",
    "#1: position\n",
    "#line 1: name\n",
    "##dddddd: color\n",
    "#1: width\n",
    "#1: dashed, 0 is not dashed\n",
    "#1: label size factor"
   ]
  },
  {
   "cell_type": "code",
   "execution_count": 838,
   "id": "1dd2e148-0fc4-4637-b17d-52b82595f7cd",
   "metadata": {
    "tags": []
   },
   "outputs": [],
   "source": [
    "otu_ids = open(\"considered-genome-ids.txt\").read().strip().split(\"\\n\")"
   ]
  },
  {
   "cell_type": "code",
   "execution_count": 839,
   "id": "97ec3091-1aa7-4971-acd6-32561dde386c",
   "metadata": {
    "tags": []
   },
   "outputs": [],
   "source": [
    "fout = open(\"itol-datasets/U-counts.txt\",\"w\")\n",
    "header = \"\"\"DATASET_SIMPLEBAR\n",
    "\n",
    "SEPARATOR COMMA\n",
    "DATASET_LABEL,simple bar U counts\n",
    "\n",
    "DATASET_SCALE,0-line 1-#dddddd-1-1-1,5-line 2-#dddddd-1-1-1,10-line 3-#dddddd-1-1-1\n",
    "COLOR,#8e7cc3\n",
    "WIDTH,32\n",
    "\n",
    "HEIGHT_FACTOR,1\n",
    "\n",
    "DATA\"\"\"\n",
    "print(header,file=fout)\n",
    "for otu_id in otu_ids:\n",
    "    v = round(passed_genome_information.loc[otu_id,\"U count\"],3)\n",
    "    phylum = passed_genome_information.loc[otu_id,\"phylum\"]\n",
    "    genome_id = otu_id + \"_\" + str(phylum)\n",
    "    print(genome_id,v,sep=\",\",file=fout)\n",
    "fout.close()"
   ]
  },
  {
   "cell_type": "code",
   "execution_count": 840,
   "id": "74b64671-5fc4-4d24-aeeb-7ce78184670a",
   "metadata": {
    "tags": []
   },
   "outputs": [],
   "source": [
    "fout = open(\"itol-datasets/rho-scores.txt\",\"w\")\n",
    "header = \"\"\"DATASET_SIMPLEBAR\n",
    "\n",
    "SEPARATOR COMMA\n",
    "DATASET_LABEL,simple bar rho scores\n",
    "\n",
    "DATASET_SCALE,0-line 1-#dddddd-1-1-1,2.5-line 2-#dddddd-1-1-1,5-line 3-#dddddd-1-1-1\n",
    "COLOR,#5178b8\n",
    "WIDTH,32\n",
    "\n",
    "HEIGHT_FACTOR,1\n",
    "\n",
    "DATA\"\"\"\n",
    "print(header,file=fout)\n",
    "for otu_id in otu_ids:\n",
    "    v = round(passed_genome_information.loc[otu_id,\"rho scores\"],3)\n",
    "    phylum = passed_genome_information.loc[otu_id,\"phylum\"]\n",
    "    genome_id = otu_id + \"_\" + str(phylum)\n",
    "    print(genome_id,v,sep=\",\",file=fout)\n",
    "fout.close()"
   ]
  },
  {
   "cell_type": "code",
   "execution_count": 841,
   "id": "1a8e64bd-77bc-405e-a03c-84381c28436f",
   "metadata": {
    "tags": []
   },
   "outputs": [],
   "source": [
    "fout = open(\"itol-datasets/rho-presence.txt\",\"w\")\n",
    "header = \"\"\"DATASET_SIMPLEBAR\n",
    "\n",
    "SEPARATOR COMMA\n",
    "DATASET_LABEL,simple bar rho homolog\n",
    "\n",
    "DATASET_SCALE,0-line 1-#dddddd-1-1-1,1-line 2-#dddddd-1-1-1\n",
    "COLOR,#888888\n",
    "WIDTH,32\n",
    "\n",
    "HEIGHT_FACTOR,1\n",
    "\n",
    "DATA\"\"\"\n",
    "print(header,file=fout)\n",
    "for otu_id in otu_ids:\n",
    "    v = passed_genome_information.loc[otu_id,\"contain rho\"]\n",
    "    phylum = passed_genome_information.loc[otu_id,\"phylum\"]\n",
    "    genome_id = otu_id + \"_\" + str(phylum)\n",
    "    print(genome_id,v,sep=\",\",file=fout)\n",
    "fout.close()"
   ]
  },
  {
   "cell_type": "code",
   "execution_count": 851,
   "id": "708835c2-7651-4930-add7-8f99e1428f66",
   "metadata": {},
   "outputs": [],
   "source": [
    "cyano_rho_information = genome_information[genome_information[\"phylum\"] == \"Cyanobacteria\"].copy()"
   ]
  },
  {
   "cell_type": "code",
   "execution_count": 860,
   "id": "dfa8e621-860a-44df-b7a9-aed9124469dd",
   "metadata": {
    "tags": []
   },
   "outputs": [],
   "source": [
    "cyano_rho_information[\"genus\"] = cyano_rho_information[\"taxonomy\"].map(lambda x:x.split(\";\")[5][3:])"
   ]
  },
  {
   "cell_type": "code",
   "execution_count": 872,
   "id": "80f09c72-004a-42d9-8b18-bcb74842acaa",
   "metadata": {
    "tags": []
   },
   "outputs": [],
   "source": [
    "cyano_rho_information[\"family\"] = cyano_rho_information[\"taxonomy\"].map(lambda x:x.split(\";\")[4][3:])"
   ]
  },
  {
   "cell_type": "code",
   "execution_count": 907,
   "id": "bc40dda7-ff9b-42f4-a203-fc3dfa4cb4b8",
   "metadata": {
    "tags": []
   },
   "outputs": [],
   "source": [
    "cyano_rho_information_isolate = cyano_rho_information[cyano_rho_information[\"type\"] == \"isolate\"].copy()"
   ]
  },
  {
   "cell_type": "code",
   "execution_count": 921,
   "id": "d9cbf2e7-d818-42ea-8527-3152680b124e",
   "metadata": {
    "tags": []
   },
   "outputs": [],
   "source": [
    "family_ids = cyano_rho_information_isolate.groupby(\"family\").apply(lambda x:x.shape[0]).sort_values(ascending=False).index[:10]"
   ]
  },
  {
   "cell_type": "code",
   "execution_count": 922,
   "id": "18165572-5b62-4b7a-80e7-c8ec69d81f26",
   "metadata": {
    "tags": []
   },
   "outputs": [],
   "source": [
    "cyano_rho_information_isolate_used = cyano_rho_information_isolate[cyano_rho_information_isolate['family'].isin(family_ids)]"
   ]
  },
  {
   "cell_type": "code",
   "execution_count": 926,
   "id": "e4e48275-c029-449c-85c2-10cdbbd53f87",
   "metadata": {
    "tags": []
   },
   "outputs": [],
   "source": [
    "#6912: Nostocaceae,Chlorogloeopsis fritschii PCC 6912\n",
    "#7120: Nostocaceae,Nostoc sp. PCC 7120\n",
    "#7942: Synechococcaceae,Synechococcus elongatus PCC 7942"
   ]
  },
  {
   "cell_type": "code",
   "execution_count": null,
   "id": "8942997e-96ed-4a70-9748-a140ad582626",
   "metadata": {},
   "outputs": [],
   "source": []
  },
  {
   "cell_type": "code",
   "execution_count": 899,
   "id": "f4682c7f-f80c-4300-8262-85bf03ea1d7e",
   "metadata": {
    "tags": []
   },
   "outputs": [],
   "source": [
    "cyano_rho_information[\"order\"] = cyano_rho_information[\"taxonomy\"].map(lambda x:x.split(\";\")[3][3:])"
   ]
  },
  {
   "cell_type": "code",
   "execution_count": 878,
   "id": "b982658d-adf4-49a9-bb39-742ce5a1cac8",
   "metadata": {
    "tags": []
   },
   "outputs": [],
   "source": [
    "cyano_rho_information_used = cyano_rho_information[cyano_rho_information[\"family\"].isin(family_ids)]"
   ]
  },
  {
   "cell_type": "code",
   "execution_count": 885,
   "id": "27b67ae2-47cb-448e-8b59-315386b1abcc",
   "metadata": {
    "tags": []
   },
   "outputs": [],
   "source": [
    "check = cyano_rho_information.groupby(\"family\").apply(lambda x:x[\"rho scores\"].median()).sort_values()"
   ]
  },
  {
   "cell_type": "code",
   "execution_count": null,
   "id": "1237dc36-a5ac-4ea7-9a7e-8c9e9eb8f75a",
   "metadata": {},
   "outputs": [],
   "source": [
    "7120 6912 "
   ]
  },
  {
   "cell_type": "code",
   "execution_count": 1512,
   "id": "6e819349-8f5a-4bb9-b187-8d46cc602c11",
   "metadata": {
    "tags": []
   },
   "outputs": [],
   "source": [
    "traits = pd.read_csv(\"data/cyanobacteria/traits-GBE-2020.txt\",sep=\"\\t\")"
   ]
  },
  {
   "cell_type": "code",
   "execution_count": 1515,
   "id": "b25607b6-e1c3-4d93-b8fa-3bfeef9a5888",
   "metadata": {
    "tags": []
   },
   "outputs": [
    {
     "data": {
      "text/plain": [
       "'GCA_000317285.1'"
      ]
     },
     "execution_count": 1515,
     "metadata": {},
     "output_type": "execute_result"
    }
   ],
   "source": [
    "traits.loc[29,\"assembly\"]"
   ]
  },
  {
   "cell_type": "code",
   "execution_count": 1516,
   "id": "0bb7a460-8d7f-45f4-b1c4-62a4596a07ca",
   "metadata": {
    "tags": []
   },
   "outputs": [],
   "source": [
    "##replace GCA_000317285.1 with GCA_003990575.1\n",
    "traits.loc[29,\"assembly\"] = \"GCA_003990575.1\"\n",
    "GCF2GCA = {}\n",
    "GCA2GCF = {}\n",
    "with open(\"/data2/lulab1/microbiome/MAGs/GCF2GCA.txt\") as f:\n",
    "    for line in f:\n",
    "        GCF_id, GCA_id = line.strip().split(\"\\t\")\n",
    "        GCF2GCA[GCF_id] = GCA_id\n",
    "        GCA2GCF[GCA_id] = GCF_id\n",
    "traits[\"refseq id\"] = traits[\"assembly\"].map(lambda x:GCA2GCF.get(x,\".\"))       \n",
    "cyano_ids = open(\"data/cyanobacteria/genome-ids.txt\").read().strip().split(\"\\n\")\n",
    "common_cyano_ids = np.intersect1d(traits[\"refseq id\"].values,cyano_ids)"
   ]
  },
  {
   "cell_type": "code",
   "execution_count": 1517,
   "id": "be593596-ec5c-4a25-9d1b-a692fa147dc1",
   "metadata": {
    "tags": []
   },
   "outputs": [
    {
     "data": {
      "text/plain": [
       "68"
      ]
     },
     "execution_count": 1517,
     "metadata": {},
     "output_type": "execute_result"
    }
   ],
   "source": [
    "len(common_cyano_ids)"
   ]
  },
  {
   "cell_type": "code",
   "execution_count": 1518,
   "id": "d35b71fe-c73d-4e28-8205-50c3c89087d5",
   "metadata": {
    "tags": []
   },
   "outputs": [],
   "source": [
    "def get_metagene(contig_path, fpr_path, rut_path,stem_loop_path,cds_path,\n",
    "                 threshold=0.25,left_flanking=500, right_flanking=500,title=None):\n",
    "    fwd_coverages = {}\n",
    "    rev_coverages = {}\n",
    "    size = 0\n",
    "    with open(contig_path) as f:\n",
    "        for line in f:\n",
    "            seq_id, length = line.strip().split(\"\\t\")[:2]\n",
    "            length = int(length)\n",
    "            fwd_coverages[seq_id] = np.zeros(length, dtype=int)\n",
    "            rev_coverages[seq_id] = np.zeros(length, dtype=int)\n",
    "            size += length\n",
    "    cutoffs, fprs = [], []\n",
    "    with open(fpr_path) as f:\n",
    "        for line in f:\n",
    "            cutoff, fpr = line.strip().split(\"\\t\")\n",
    "            cutoff, fpr = float(cutoff), float(fpr)\n",
    "            fprs.append(fpr)\n",
    "            cutoffs.append(cutoff)\n",
    "    cutoff = interp1d(fprs,cutoffs)(threshold)\n",
    "\n",
    "    n_RUTs = 0\n",
    "    with open(rut_path) as f:\n",
    "        for line in f:\n",
    "            fields = line.strip().split(\"\\t\")\n",
    "            score = float(fields[4])\n",
    "            if score < cutoff:\n",
    "                continue\n",
    "            n_RUTs += 1\n",
    "            seq_id, start, end = fields[:3]\n",
    "            start, end = int(start), int(end)\n",
    "            strand = fields[5]\n",
    "            if strand == \"+\":\n",
    "                fwd_coverages[seq_id][start:end] += 1\n",
    "            else:\n",
    "                rev_coverages[seq_id][start:end] += 1\n",
    "    L = left_flanking + right_flanking\n",
    "    region_start = left_flanking\n",
    "    region_end = left_flanking + 100\n",
    "    metagene = np.zeros(L,dtype=int)\n",
    "    n_terminator, n_with_RDT = 0, 0\n",
    "    with open(stem_loop_path) as f:\n",
    "        for line in f:\n",
    "            fields = line.strip().split(\"\\t\")\n",
    "            if (fields[9] in [\"gene:3'\",\"downstream\"]) and (fields[8] == \"concordant\"):\n",
    "                n_terminator += 1\n",
    "                seq_id, start, end = fields[:3]\n",
    "                strand = fields[5]\n",
    "                start, end = int(start), int(end)\n",
    "                if strand == \"+\":\n",
    "                    x = fwd_coverages[seq_id][end-left_flanking:end+right_flanking]\n",
    "                    if x[region_start:region_end].sum() > 0:\n",
    "                        n_with_RDT += 1\n",
    "                    if x.shape[0] == L:\n",
    "                        metagene += x\n",
    "                else:\n",
    "                    x = rev_coverages[seq_id][start-right_flanking:start+left_flanking][::-1]\n",
    "                    if x[region_start:region_end].sum() > 0:\n",
    "                        n_with_RDT += 1                    \n",
    "                    if x.shape[0] == L:\n",
    "                        metagene += x  \n",
    "    metagene_start = np.zeros(L,dtype=int)\n",
    "    metagene_end = np.zeros(L,dtype=int)\n",
    "    \n",
    "    with open(cds_path) as f:\n",
    "        for line in f:\n",
    "            fields = line.strip().split(\"\\t\")\n",
    "            seq_id, start, end = fields[:3]\n",
    "            start, end = int(start), int(end)\n",
    "            strand = fields[5]\n",
    "            if strand == \"+\":\n",
    "                xs = fwd_coverages[seq_id][start-left_flanking:start+right_flanking]\n",
    "                xe = fwd_coverages[seq_id][end-left_flanking:end+right_flanking]\n",
    "\n",
    "            else:\n",
    "                xe = rev_coverages[seq_id][start-left_flanking:start+right_flanking][::-1]\n",
    "                xs = rev_coverages[seq_id][end-left_flanking:end+right_flanking][::-1]   \n",
    "            if xs.shape[0] == L:\n",
    "                metagene_start += xs\n",
    "            if xe.shape[0] == L:\n",
    "                metagene_end += xe                        \n",
    "    return metagene, metagene_start, metagene_end, n_with_RDT, n_terminator, n_RUTs, size"
   ]
  },
  {
   "cell_type": "code",
   "execution_count": 1519,
   "id": "403511be-9810-4b92-956d-9f08793c7543",
   "metadata": {
    "tags": []
   },
   "outputs": [],
   "source": [
    "def check_RUT(asm_id,threshold=0.1):\n",
    "    indir = \"/BioII/lulab_b/jinyunfan/projects/terminator-prediction/performance-evaluation\"    \n",
    "    contig_path = f\"{indir}/dataset/genome/refseq/assemblies-short/{asm_id}.fna.fai\"\n",
    "    cds_path = f\"{indir}/dataset/genome/refseq/bed/{asm_id}.bed\"\n",
    "    fpr_path = f\"{indir}/output/BS-RUT/background/{asm_id}.max.FPR\"\n",
    "    rut_path = f\"{indir}/output/BS-RUT/genome/refseq/{asm_id}.max.bed\"\n",
    "    stem_loop_path = f\"{indir}/output/BATTER/bed/refseq/predictions.annotated/{asm_id}.bed\"    \n",
    "    left_flanking,right_flanking = 400,400\n",
    "    metagene, metagene_start, metagene_end, n_with_RDT, n_terminator, n_RUTs, size = get_metagene(contig_path, fpr_path, rut_path,stem_loop_path,cds_path,\n",
    "                     threshold=threshold,left_flanking=left_flanking, right_flanking=right_flanking)\n",
    "    #fig, ax = plt.subplots(figsize=(5,1))\n",
    "    #ax.plot(np.arange(-left_flanking,right_flanking),metagene,label=\"stem loop\")\n",
    "    #ax.set_xlabel(\"Distance to predicted primary termination sites\")\n",
    "    #ax.set_ylabel(\"Coverage\")\n",
    "    return metagene, n_with_RDT/n_terminator, n_RUTs/(size/1000)"
   ]
  },
  {
   "cell_type": "code",
   "execution_count": 1336,
   "id": "69739fc2-39b5-42b8-8854-f01e0654c330",
   "metadata": {
    "tags": []
   },
   "outputs": [],
   "source": [
    "threshold = 0.2\n",
    "ecoli_metagene, ecoli_fraction, ecoli_density = check_RUT(\"GCF_000005845.2\",threshold)\n",
    "bsub_metagene, bsub_fraction, bsub_density = check_RUT(\"GCF_000009045.1\",threshold)\n",
    "nostoc_metagene, nostoc_fraction, nostoc_density = check_RUT(\"GCF_000009705.1\",threshold)"
   ]
  },
  {
   "cell_type": "code",
   "execution_count": 1334,
   "id": "d9df0b0c-be33-41a6-b46f-bac3e1e11bdc",
   "metadata": {
    "tags": []
   },
   "outputs": [
    {
     "data": {
      "text/plain": [
       "(0.10895170789163722, 0.05263157894736842, 0.15791551519936833)"
      ]
     },
     "execution_count": 1334,
     "metadata": {},
     "output_type": "execute_result"
    }
   ],
   "source": [
    "ecoli_fraction,bsub_fraction,nostoc_fraction"
   ]
  },
  {
   "cell_type": "code",
   "execution_count": 1330,
   "id": "266b56a0-55f9-4b35-9332-5356e2e274eb",
   "metadata": {
    "tags": []
   },
   "outputs": [
    {
     "data": {
      "text/plain": [
       "(0.7966991062664758, 0.7966991062664758, 0.8768975354104231)"
      ]
     },
     "execution_count": 1330,
     "metadata": {},
     "output_type": "execute_result"
    }
   ],
   "source": [
    "ecoli_density,ecoli_density,nostoc_density"
   ]
  },
  {
   "cell_type": "code",
   "execution_count": 1495,
   "id": "690c6096-0a32-4661-a9e6-c5d3f851d0aa",
   "metadata": {
    "tags": []
   },
   "outputs": [
    {
     "data": {
      "image/png": "[encoded data removed]",
      "text/plain": [
       "<Figure size 300x200 with 3 Axes>"
      ]
     },
     "metadata": {},
     "output_type": "display_data"
    }
   ],
   "source": [
    "fig, axes = plt.subplots(3,1,figsize=(3,2))\n",
    "axes[1].plot(np.arange(-400,400),bsub_metagene,color=\"#7C99C9\")\n",
    "_ = axes[1].set_xticklabels([])\n",
    "axes[0].plot(np.arange(-400,400),ecoli_metagene,color=\"#7C99C9\")\n",
    "_ = axes[0].set_xticklabels([])\n",
    "axes[2].plot(np.arange(-400,400),nostoc_metagene,color=\"#7C99C9\")\n",
    "axes[2].set_xlabel(\"Distance to predicted TES\")\n",
    "plt.savefig(\"figures/model-species-density2.pdf\",bbox_inches=\"tight\")"
   ]
  },
  {
   "cell_type": "code",
   "execution_count": 1520,
   "id": "ffcc2713-800f-4992-9aa4-1b433b0628f4",
   "metadata": {},
   "outputs": [],
   "source": [
    "def check_cyano_RUT(asm_id,plot=False,name=None):\n",
    "    indir = \"/BioII/lulab_b/jinyunfan/projects/terminator-prediction/rho-protein-phylogenetics/genomes/cyanobacteria\"    \n",
    "    contig_path = f\"{indir}/assemblies-short/{asm_id}.fna.fai\"\n",
    "    fpr_path = f\"{indir}/RUT-background/{asm_id}.FPR\"\n",
    "    rut_path = f\"{indir}/RUT/{asm_id}.max.bed\"\n",
    "    stem_loop_path = f\"{indir}/stem-loops/bed.annotated/{asm_id}.bed\"\n",
    "    cds_path = f\"{indir}/genes/{asm_id}.bed\"\n",
    "    left_flanking,right_flanking = 400,400\n",
    "    metagene, metagene_start, metagene_end, n_with_RDT, n_terminator, n_RUTs, size = get_metagene(contig_path, fpr_path, rut_path,stem_loop_path,cds_path,\n",
    "                     threshold=0.2,left_flanking=left_flanking, right_flanking=right_flanking)\n",
    "    if plot:\n",
    "        fig, ax = plt.subplots(figsize=(5,1))\n",
    "        ax.plot(np.arange(-200,400),metagene[200:],\n",
    "                label=\"stem loop\",linewidth=2,color=\"#7C99C9\")\n",
    "        ax.set_xlabel(\"Distance to predicted primary termination sites\")\n",
    "        ax.set_ylabel(\"Density\")\n",
    "        if name is not None:\n",
    "            ax.set_title(name)\n",
    "        ax.set_xlim([-200,400])\n",
    "        plt.savefig(f\"figures/{asm_id}.pdf\",bbox_inches=\"tight\")\n",
    "    return n_with_RDT/n_terminator, n_RUTs/(size/1000)"
   ]
  },
  {
   "cell_type": "code",
   "execution_count": 1499,
   "id": "b531fa9a-d550-4a96-b782-9eed6f3a054f",
   "metadata": {
    "tags": []
   },
   "outputs": [],
   "source": [
    "#traits = traits.reset_index()"
   ]
  },
  {
   "cell_type": "code",
   "execution_count": 1521,
   "id": "4db33e46-417b-4f32-bd1d-7bbef77e99e7",
   "metadata": {
    "tags": []
   },
   "outputs": [
    {
     "data": {
      "text/plain": [
       "(0.139739663093415, 0.7316414189878969)"
      ]
     },
     "execution_count": 1521,
     "metadata": {},
     "output_type": "execute_result"
    },
    {
     "data": {
      "image/png": "[encoded data removed]",
      "text/plain": [
       "<Figure size 500x100 with 1 Axes>"
      ]
     },
     "metadata": {},
     "output_type": "display_data"
    }
   ],
   "source": [
    "check_cyano_RUT(\"GCF_003990575.1\",plot=True,name=\"$C. fritschii$ PCC 6912\")"
   ]
  },
  {
   "cell_type": "code",
   "execution_count": 1522,
   "id": "00168606-8624-469d-8000-0eca092bb09e",
   "metadata": {
    "tags": []
   },
   "outputs": [
    {
     "data": {
      "text/plain": [
       "(0.17749887942626624, 0.8061384204394337)"
      ]
     },
     "execution_count": 1522,
     "metadata": {},
     "output_type": "execute_result"
    },
    {
     "data": {
      "image/png": "[encoded data removed]",
      "text/plain": [
       "<Figure size 500x100 with 1 Axes>"
      ]
     },
     "metadata": {},
     "output_type": "display_data"
    }
   ],
   "source": [
    "check_cyano_RUT(\"GCF_000317225.1\",plot=True,name=\"$F. thermalis$ PCC 7521\")"
   ]
  },
  {
   "cell_type": "code",
   "execution_count": 1523,
   "id": "cc8bcc99-6276-4b16-9a5a-e9e40e3ff6de",
   "metadata": {
    "tags": []
   },
   "outputs": [
    {
     "data": {
      "text/plain": [
       "(0.22945484133441824, 0.7835817947590277)"
      ]
     },
     "execution_count": 1523,
     "metadata": {},
     "output_type": "execute_result"
    },
    {
     "data": {
      "image/png": "[encoded data removed]",
      "text/plain": [
       "<Figure size 500x100 with 1 Axes>"
      ]
     },
     "metadata": {},
     "output_type": "display_data"
    }
   ],
   "source": [
    "#Cyanobacterium.aponinum.PCC.10605__Cyanobacteriaceae__GCF_000317675.1\n",
    "check_cyano_RUT(\"GCF_000317675.1\",plot=True,name=\"$C. aponinum$ PCC 10605\")"
   ]
  },
  {
   "cell_type": "code",
   "execution_count": 1524,
   "id": "e50559ed-b3e3-480e-92f9-0c13fbfe6275",
   "metadata": {
    "tags": []
   },
   "outputs": [
    {
     "data": {
      "text/plain": [
       "(0.06930693069306931, 0.503360780548145)"
      ]
     },
     "execution_count": 1524,
     "metadata": {},
     "output_type": "execute_result"
    },
    {
     "data": {
      "image/png": "[encoded data removed]",
      "text/plain": [
       "<Figure size 500x100 with 1 Axes>"
      ]
     },
     "metadata": {},
     "output_type": "display_data"
    }
   ],
   "source": [
    "#Synechocystis.sp.PCC.6803.substr.GT-I__Microcystaceae_A__GCF_000284135.1\n",
    "check_cyano_RUT(\"GCF_000284135.1\",plot=True,name=\"Synechocystis.sp.PCC.6803\")"
   ]
  },
  {
   "cell_type": "code",
   "execution_count": 1525,
   "id": "52f0bdfb-e675-4672-98c2-b2eadaa8ed6d",
   "metadata": {
    "tags": []
   },
   "outputs": [
    {
     "data": {
      "text/plain": [
       "(0.021834061135371178, 0.6868694433198144)"
      ]
     },
     "execution_count": 1525,
     "metadata": {},
     "output_type": "execute_result"
    },
    {
     "data": {
      "image/png": "[encoded data removed]",
      "text/plain": [
       "<Figure size 500x100 with 1 Axes>"
      ]
     },
     "metadata": {},
     "output_type": "display_data"
    }
   ],
   "source": [
    "#Prochlorococcus.marinus.str.MIT.9312__Cyanobiaceae__GCF_000012645.1\n",
    "check_cyano_RUT(\"GCF_000012645.1\",plot=True,name=\"$P. marinus$ str.MIT.9312\")"
   ]
  },
  {
   "cell_type": "code",
   "execution_count": 1526,
   "id": "7eb6ba5b-2a8e-49e0-b08f-1f8fb15b5538",
   "metadata": {
    "tags": []
   },
   "outputs": [
    {
     "data": {
      "text/plain": [
       "(0.04672897196261682, 0.5670486739265915)"
      ]
     },
     "execution_count": 1526,
     "metadata": {},
     "output_type": "execute_result"
    },
    {
     "data": {
      "image/png": "[encoded data removed]",
      "text/plain": [
       "<Figure size 500x100 with 1 Axes>"
      ]
     },
     "metadata": {},
     "output_type": "display_data"
    }
   ],
   "source": [
    "#GCF_000012525.1 GCA_000012525.1 Synechococcus elongatus PCC 7942 \n",
    "check_cyano_RUT(\"GCF_000012525.1\",plot=True,name=\"$S. elongatus$ PCC 7942\")"
   ]
  },
  {
   "cell_type": "code",
   "execution_count": 1542,
   "id": "518699b1-f0b0-4130-ac35-cfb9846a4f70",
   "metadata": {
    "tags": []
   },
   "outputs": [
    {
     "data": {
      "text/plain": [
       "(0.04374240583232078, 0.46276541928218573)"
      ]
     },
     "execution_count": 1542,
     "metadata": {},
     "output_type": "execute_result"
    },
    {
     "data": {
      "image/png": "[encoded data removed]",
      "text/plain": [
       "<Figure size 500x100 with 1 Axes>"
      ]
     },
     "metadata": {},
     "output_type": "display_data"
    }
   ],
   "source": [
    "#Picosynechococcus.sp.PCC.7002__Cyanobacteriaceae__GCF_000019485.1\n",
    "check_cyano_RUT(\"GCF_000019485.1\",plot=True,name=\"$P. sp.$ PCC 7002\")"
   ]
  },
  {
   "cell_type": "code",
   "execution_count": 1545,
   "id": "74459b0c-f522-4cc7-b539-1ca56da9f309",
   "metadata": {
    "tags": []
   },
   "outputs": [
    {
     "data": {
      "text/plain": [
       "(0.21272285251215559, 0.8168041377202027)"
      ]
     },
     "execution_count": 1545,
     "metadata": {},
     "output_type": "execute_result"
    },
    {
     "data": {
      "image/png": "[encoded data removed]",
      "text/plain": [
       "<Figure size 500x100 with 1 Axes>"
      ]
     },
     "metadata": {},
     "output_type": "display_data"
    }
   ],
   "source": [
    "#Nostoc.sp.PCC.7524__Nostocaceae__GCF_000316645.1\n",
    "check_cyano_RUT(\"GCF_000316645.1\",plot=True,name=\"$Nostoc. sp.$ PCC 7524\")"
   ]
  },
  {
   "cell_type": "code",
   "execution_count": 1527,
   "id": "8a0b878e-7c4e-4978-a8e6-998f7354a0ca",
   "metadata": {
    "tags": []
   },
   "outputs": [],
   "source": [
    "fractions_in_TES = {}\n",
    "RDT_densities = {}\n",
    "for refseq_id, species, unicellular in traits.loc[:,[\"refseq id\",\"species\",'03 UNICELLULAR']].to_records(index=False):\n",
    "    if not os.path.exists(f\"data/cyanobacteria/bed.annotated/{refseq_id}.bed\"):\n",
    "        #print(refseq_id)\n",
    "        continue\n",
    "    fraction_in_TES, RDT_density = check_cyano_RUT(refseq_id)\n",
    "    #print(refseq_id, species, unicellular, fraction)\n",
    "    fractions_in_TES[refseq_id] = fraction_in_TES\n",
    "    RDT_densities[refseq_id] = RDT_density"
   ]
  },
  {
   "cell_type": "code",
   "execution_count": 1528,
   "id": "60768c29-65a1-41e0-88d1-68c65c8163b5",
   "metadata": {
    "tags": []
   },
   "outputs": [],
   "source": [
    "traits[\"RDT fraction\"] = traits[\"refseq id\"].map(lambda x:fractions_in_TES.get(x,np.nan))\n",
    "traits[\"RDT density\"] = traits[\"refseq id\"].map(lambda x:RDT_densities.get(x,np.nan))"
   ]
  },
  {
   "cell_type": "code",
   "execution_count": 1529,
   "id": "b1d19022-b2b9-40cd-bb53-4a4d410db27f",
   "metadata": {
    "tags": []
   },
   "outputs": [],
   "source": [
    "traits[~traits[\"RDT density\"].isna()].to_csv(\"cyano-traits-with-complete-genomes.txt\",sep=\"\\t\",index=False)"
   ]
  },
  {
   "cell_type": "code",
   "execution_count": 1530,
   "id": "01f5c440-f8fc-4a89-ad3e-cd13dde2686b",
   "metadata": {
    "tags": []
   },
   "outputs": [],
   "source": [
    "with open(\"cyano-complete-genome-ids.txt\",\"w\") as f:\n",
    "    f.write(\"\\n\".join(traits[~traits[\"RDT density\"].isna()]['refseq id'].values))"
   ]
  },
  {
   "cell_type": "code",
   "execution_count": 1531,
   "id": "95e42b8e-563b-4ca9-8509-9aef35d48911",
   "metadata": {},
   "outputs": [],
   "source": [
    "genome_ids = set(list(traits[~traits[\"RDT density\"].isna()]['refseq id'].values))"
   ]
  },
  {
   "cell_type": "code",
   "execution_count": 1532,
   "id": "72ea9ecb-d14e-485b-a3f6-cc4566cbd134",
   "metadata": {
    "tags": []
   },
   "outputs": [],
   "source": [
    "cyanobacteria_msa = \"/BioII/lulab_b/jinyunfan/projects/terminator-prediction/rho-protein-phylogenetics/genomes/cyanobacteria/taxonomy/align/gtdbtk.bac120.user_msa.renamed.fasta\"\n",
    "fout = open(\"cyanobacteria-with-complete-genome-and-traits.marker120.faa\",\"w\")\n",
    "with open(cyanobacteria_msa) as f:\n",
    "    for header in f:\n",
    "        sequence = next(f)\n",
    "        asm_id = header.strip().split(\"__\")[-1]\n",
    "        if asm_id in genome_ids:\n",
    "            rename[asm_id] = header[1:-1]\n",
    "            fout.write(header)\n",
    "            fout.write(sequence)\n",
    "fout.close()\n",
    "# manually edit two label\n",
    "#Synechococcus.sp.JA-2-3B'a(2-13)__JA-3-3Ab__GCF_000013225.1->\n",
    "#Synechococcus.sp.JA-2-3B'a2-13__JA-3-3Ab__GCF_000013225.1\n",
    "#[Leptolyngbya].sp.PCC.7376__Cyanobacteriaceae__GCF_000316605.1 -> \n",
    "#sp.PCC.7376__Cyanobacteriaceae__GCF_000316605.1"
   ]
  },
  {
   "cell_type": "code",
   "execution_count": 1354,
   "id": "6f53197f-d8d6-4036-8166-515243b048ec",
   "metadata": {
    "tags": []
   },
   "outputs": [],
   "source": [
    "#FastTree -wag -gamma cyanobacteria-with-complete-genome-and-traits.marker120.faa > cyanobacteria-with-complete-genome-and-traits.marker120.nwk"
   ]
  },
  {
   "cell_type": "code",
   "execution_count": 26,
   "id": "b3b406fc-0574-4387-b5ce-f61725ba5044",
   "metadata": {
    "tags": []
   },
   "outputs": [],
   "source": [
    "rename = {}\n",
    "with open(\"cyanobacteria-with-complete-genome-and-traits.marker120.faa\") as f:\n",
    "    for header in f:\n",
    "        sequence = next(f)\n",
    "        asm_id = header.strip().split(\"__\")[-1]\n",
    "        rename[asm_id] = header[1:-1]"
   ]
  },
  {
   "cell_type": "code",
   "execution_count": 1534,
   "id": "924495ec-2814-4367-9c03-c35247bce9fd",
   "metadata": {
    "tags": []
   },
   "outputs": [],
   "source": [
    "traits = traits.set_index('refseq id')"
   ]
  },
  {
   "cell_type": "code",
   "execution_count": 1535,
   "id": "8af8ca2b-03a9-4279-a6b1-c3015ec4c939",
   "metadata": {
    "tags": []
   },
   "outputs": [],
   "source": [
    "fout = open(\"itol-datasets/cyanobacteria-RUT-fraction.txt\",\"w\")\n",
    "header = \"\"\"DATASET_SIMPLEBAR\n",
    "\n",
    "SEPARATOR COMMA\n",
    "DATASET_LABEL,simple bar RUT fraction\n",
    "\n",
    "DATASET_SCALE,0-line 1-#dddddd-1-1-1,0.1-line 2-#dddddd-1-1-1,0.2-line 3-#dddddd-1-1-1\n",
    "COLOR,#8e7cc3\n",
    "WIDTH,100\n",
    "\n",
    "HEIGHT_FACTOR,1\n",
    "\n",
    "DATA\"\"\"\n",
    "print(header,file=fout)\n",
    "for otu_id in rename:\n",
    "    name = rename[otu_id]\n",
    "    v = round(traits.loc[otu_id,\"RDT fraction\"],3)\n",
    "    print(name,v,sep=\",\",file=fout)\n",
    "fout.close()"
   ]
  },
  {
   "cell_type": "code",
   "execution_count": 1537,
   "id": "2d75e42c-fb54-4bab-98b9-b838a4266eee",
   "metadata": {
    "tags": []
   },
   "outputs": [],
   "source": [
    "fout = open(\"itol-datasets/cyanobacteria-unicellular.txt\",\"w\")\n",
    "header = \"\"\"DATASET_BINARY\n",
    "SEPARATOR COMMA\n",
    "DATASET_LABEL,unicellular\n",
    "COLOR,#ff0000\n",
    "FIELD_SHAPES,1\n",
    "FIELD_LABELS,unicellular\n",
    "DATA\"\"\"\n",
    "print(header,file=fout)\n",
    "#node 9606 will have a filled circle, outline of a left triangle, nothing in the 3rd column and an rectangle outline in column 4\n",
    "#9606,1,0,-1,0\n",
    "for otu_id in rename:\n",
    "    name = rename[otu_id]\n",
    "    v = int(traits.loc[otu_id,\"03 UNICELLULAR\"])\n",
    "    print(name,v,sep=\",\",file=fout)\n",
    "fout.close()"
   ]
  },
  {
   "cell_type": "code",
   "execution_count": 1538,
   "id": "84ee1516-0698-46d0-8aa0-dec81021f7d2",
   "metadata": {
    "tags": []
   },
   "outputs": [],
   "source": [
    "fout = open(\"itol-datasets/cyanobacteria-marine.txt\",\"w\")\n",
    "header = \"\"\"DATASET_BINARY\n",
    "SEPARATOR COMMA\n",
    "DATASET_LABEL,marine\n",
    "COLOR,#ff0000\n",
    "FIELD_SHAPES,1\n",
    "FIELD_LABELS,marine\n",
    "DATA\"\"\"\n",
    "print(header,file=fout)\n",
    "#node 9606 will have a filled circle, outline of a left triangle, nothing in the 3rd column and an rectangle outline in column 4\n",
    "#9606,1,0,-1,0\n",
    "for otu_id in rename:\n",
    "    name = rename[otu_id]\n",
    "    v = int(1-traits.loc[otu_id,\"01 NON MARINE\"])\n",
    "    print(name,v,sep=\",\",file=fout)\n",
    "fout.close()"
   ]
  },
  {
   "cell_type": "code",
   "execution_count": 1539,
   "id": "d2ec6b77-03e8-4d88-a56f-84a07d9b5114",
   "metadata": {
    "tags": []
   },
   "outputs": [],
   "source": [
    "fout = open(\"itol-datasets/cyanobacteria-no-N-fixation.txt\",\"w\")\n",
    "header = \"\"\"DATASET_BINARY\n",
    "SEPARATOR COMMA\n",
    "DATASET_LABEL,no-N-fixation\n",
    "COLOR,#ff0000\n",
    "FIELD_SHAPES,1\n",
    "FIELD_LABELS,no-N-fixation\n",
    "DATA\"\"\"\n",
    "print(header,file=fout)\n",
    "#node 9606 will have a filled circle, outline of a left triangle, nothing in the 3rd column and an rectangle outline in column 4\n",
    "#9606,1,0,-1,0\n",
    "for otu_id in rename:\n",
    "    name = rename[otu_id]\n",
    "    v = int(traits.loc[otu_id,\"02 NO N FIXATION\"])\n",
    "    print(name,v,sep=\",\",file=fout)\n",
    "fout.close()"
   ]
  },
  {
   "cell_type": "code",
   "execution_count": 1408,
   "id": "9ca739a4-a629-4bed-9530-8a1999a335c9",
   "metadata": {
    "tags": []
   },
   "outputs": [],
   "source": [
    "from scipy.stats import ttest_ind"
   ]
  },
  {
   "cell_type": "code",
   "execution_count": 1540,
   "id": "c9005a55-b8dc-4c92-b4ab-753213490704",
   "metadata": {
    "tags": []
   },
   "outputs": [],
   "source": [
    "traits[~traits[\"RDT fraction\"].isna()].loc[:,[\"01 NON MARINE\",\"02 NO N FIXATION\",\"03 UNICELLULAR\",\"RDT fraction\"]].to_csv(\"metadata-complete-cleaned.txt\",sep=\"\\t\")"
   ]
  },
  {
   "cell_type": "code",
   "execution_count": 7,
   "id": "bdc706bc-2ff8-44fe-81a5-fabbd24340fa",
   "metadata": {
    "tags": []
   },
   "outputs": [
    {
     "name": "stdout",
     "output_type": "stream",
     "text": [
      "/BioII/lulab_b/jinyunfan/projects/terminator-prediction/terminator-evoluationary-analysis\n"
     ]
    }
   ],
   "source": [
    "cd /BioII/lulab_b/jinyunfan/projects/terminator-prediction/terminator-evoluationary-analysis"
   ]
  },
  {
   "cell_type": "code",
   "execution_count": 8,
   "id": "36e19233-9b38-41f1-a3da-6d9cba4fb034",
   "metadata": {
    "tags": []
   },
   "outputs": [],
   "source": [
    "traits = pd.read_csv(\"metadata-complete-cleaned.txt\",sep=\"\\t\",index_col=0)"
   ]
  },
  {
   "cell_type": "code",
   "execution_count": 9,
   "id": "8fba8d3c-c885-44d2-9a1c-a97cef5971f7",
   "metadata": {},
   "outputs": [
    {
     "data": {
      "text/html": [
       "<div>\n",
       "<style scoped>\n",
       "    .dataframe tbody tr th:only-of-type {\n",
       "        vertical-align: middle;\n",
       "    }\n",
       "\n",
       "    .dataframe tbody tr th {\n",
       "        vertical-align: top;\n",
       "    }\n",
       "\n",
       "    .dataframe thead th {\n",
       "        text-align: right;\n",
       "    }\n",
       "</style>\n",
       "<table border=\"1\" class=\"dataframe\">\n",
       "  <thead>\n",
       "    <tr style=\"text-align: right;\">\n",
       "      <th></th>\n",
       "      <th>01 NON MARINE</th>\n",
       "      <th>02 NO N FIXATION</th>\n",
       "      <th>03 UNICELLULAR</th>\n",
       "      <th>RDT fraction</th>\n",
       "    </tr>\n",
       "    <tr>\n",
       "      <th>refseq id</th>\n",
       "      <th></th>\n",
       "      <th></th>\n",
       "      <th></th>\n",
       "      <th></th>\n",
       "    </tr>\n",
       "  </thead>\n",
       "  <tbody>\n",
       "    <tr>\n",
       "      <th>GCF_000012525.1</th>\n",
       "      <td>1</td>\n",
       "      <td>1</td>\n",
       "      <td>1</td>\n",
       "      <td>0.046729</td>\n",
       "    </tr>\n",
       "    <tr>\n",
       "      <th>GCF_000010625.1</th>\n",
       "      <td>1</td>\n",
       "      <td>1</td>\n",
       "      <td>1</td>\n",
       "      <td>0.148220</td>\n",
       "    </tr>\n",
       "    <tr>\n",
       "      <th>GCF_000020025.1</th>\n",
       "      <td>1</td>\n",
       "      <td>0</td>\n",
       "      <td>0</td>\n",
       "      <td>0.142439</td>\n",
       "    </tr>\n",
       "    <tr>\n",
       "      <th>GCF_000011345.1</th>\n",
       "      <td>1</td>\n",
       "      <td>1</td>\n",
       "      <td>1</td>\n",
       "      <td>0.035714</td>\n",
       "    </tr>\n",
       "    <tr>\n",
       "      <th>GCF_000011385.1</th>\n",
       "      <td>1</td>\n",
       "      <td>1</td>\n",
       "      <td>1</td>\n",
       "      <td>0.069853</td>\n",
       "    </tr>\n",
       "    <tr>\n",
       "      <th>...</th>\n",
       "      <td>...</td>\n",
       "      <td>...</td>\n",
       "      <td>...</td>\n",
       "      <td>...</td>\n",
       "    </tr>\n",
       "    <tr>\n",
       "      <th>GCF_000195975.1</th>\n",
       "      <td>0</td>\n",
       "      <td>1</td>\n",
       "      <td>1</td>\n",
       "      <td>0.066158</td>\n",
       "    </tr>\n",
       "    <tr>\n",
       "      <th>GCF_000316685.1</th>\n",
       "      <td>1</td>\n",
       "      <td>1</td>\n",
       "      <td>1</td>\n",
       "      <td>0.106557</td>\n",
       "    </tr>\n",
       "    <tr>\n",
       "      <th>GCF_000012625.1</th>\n",
       "      <td>0</td>\n",
       "      <td>1</td>\n",
       "      <td>1</td>\n",
       "      <td>0.050781</td>\n",
       "    </tr>\n",
       "    <tr>\n",
       "      <th>GCF_000161795.2</th>\n",
       "      <td>0</td>\n",
       "      <td>1</td>\n",
       "      <td>1</td>\n",
       "      <td>0.056206</td>\n",
       "    </tr>\n",
       "    <tr>\n",
       "      <th>GCF_000015705.1</th>\n",
       "      <td>0</td>\n",
       "      <td>1</td>\n",
       "      <td>1</td>\n",
       "      <td>0.103865</td>\n",
       "    </tr>\n",
       "  </tbody>\n",
       "</table>\n",
       "<p>68 rows × 4 columns</p>\n",
       "</div>"
      ],
      "text/plain": [
       "                 01 NON MARINE  02 NO N FIXATION  03 UNICELLULAR  RDT fraction\n",
       "refseq id                                                                     \n",
       "GCF_000012525.1              1                 1               1      0.046729\n",
       "GCF_000010625.1              1                 1               1      0.148220\n",
       "GCF_000020025.1              1                 0               0      0.142439\n",
       "GCF_000011345.1              1                 1               1      0.035714\n",
       "GCF_000011385.1              1                 1               1      0.069853\n",
       "...                        ...               ...             ...           ...\n",
       "GCF_000195975.1              0                 1               1      0.066158\n",
       "GCF_000316685.1              1                 1               1      0.106557\n",
       "GCF_000012625.1              0                 1               1      0.050781\n",
       "GCF_000161795.2              0                 1               1      0.056206\n",
       "GCF_000015705.1              0                 1               1      0.103865\n",
       "\n",
       "[68 rows x 4 columns]"
      ]
     },
     "execution_count": 9,
     "metadata": {},
     "output_type": "execute_result"
    }
   ],
   "source": [
    "traits"
   ]
  },
  {
   "cell_type": "code",
   "execution_count": 12,
   "id": "361b7d94-8146-4431-9da8-72bfd12eb29d",
   "metadata": {
    "tags": []
   },
   "outputs": [],
   "source": [
    "FarLIP_species = open(\"../rho-protein-phylogenetics/FARLip.species.txt\").read().strip().split(\"\\n\")"
   ]
  },
  {
   "cell_type": "code",
   "execution_count": 17,
   "id": "bbd0742f-8857-45e1-8508-17e5213c7037",
   "metadata": {
    "tags": []
   },
   "outputs": [],
   "source": [
    "genome_ids = np.intersect1d(FarLIP_species,traits.index)"
   ]
  },
  {
   "cell_type": "code",
   "execution_count": 23,
   "id": "a4f3968c-4253-4b6d-98e6-045f6577b76e",
   "metadata": {
    "tags": []
   },
   "outputs": [],
   "source": [
    "traits[\"FaRLiP\"] = traits.index.isin(genome_ids).astype(int)"
   ]
  },
  {
   "cell_type": "code",
   "execution_count": 29,
   "id": "eb4f306e-1bfe-4c38-8964-9ff8326d2d7c",
   "metadata": {
    "tags": []
   },
   "outputs": [],
   "source": [
    "LoLip_species = open(\"../rho-protein-phylogenetics/LoLip.species.txt\").read().strip().split(\"\\n\")\n",
    "genome_ids = np.intersect1d(LoLip_species,traits.index)\n",
    "traits[\"LoLiP\"] = traits.index.isin(genome_ids).astype(int)"
   ]
  },
  {
   "cell_type": "code",
   "execution_count": 27,
   "id": "c14c99a0-8b78-4546-bea4-59c9ca189d68",
   "metadata": {
    "tags": []
   },
   "outputs": [],
   "source": [
    "fout = open(\"itol-datasets/cyanobacteria-FaRLiP.txt\",\"w\")\n",
    "header = \"\"\"DATASET_BINARY\n",
    "SEPARATOR COMMA\n",
    "DATASET_LABEL,FaRLiP\n",
    "COLOR,#ff0000\n",
    "FIELD_SHAPES,1\n",
    "FIELD_LABELS,FaRLiP\n",
    "DATA\"\"\"\n",
    "print(header,file=fout)\n",
    "#node 9606 will have a filled circle, outline of a left triangle, nothing in the 3rd column and an rectangle outline in column 4\n",
    "#9606,1,0,-1,0\n",
    "for otu_id in rename:\n",
    "    name = rename[otu_id]\n",
    "    v = int(traits.loc[otu_id,\"FaRLiP\"])\n",
    "    print(name,v,sep=\",\",file=fout)\n",
    "fout.close()"
   ]
  },
  {
   "cell_type": "code",
   "execution_count": 34,
   "id": "35f89475-ccd3-4819-a5a2-f50a9c6cee5e",
   "metadata": {
    "tags": []
   },
   "outputs": [],
   "source": [
    "fout = open(\"itol-datasets/cyanobacteria-LoLip.txt\",\"w\")\n",
    "header = \"\"\"DATASET_BINARY\n",
    "SEPARATOR COMMA\n",
    "DATASET_LABEL,LoLip\n",
    "COLOR,#ff0000\n",
    "FIELD_SHAPES,1\n",
    "FIELD_LABELS,LoLip\n",
    "DATA\"\"\"\n",
    "print(header,file=fout)\n",
    "#node 9606 will have a filled circle, outline of a left triangle, nothing in the 3rd column and an rectangle outline in column 4\n",
    "#9606,1,0,-1,0\n",
    "for otu_id in rename:\n",
    "    name = rename[otu_id]\n",
    "    v = int(traits.loc[otu_id,\"LoLiP\"])\n",
    "    print(name,v,sep=\",\",file=fout)\n",
    "fout.close()"
   ]
  },
  {
   "cell_type": "code",
   "execution_count": null,
   "id": "c61fb890-b2e3-4eaa-817d-275146eee1c4",
   "metadata": {},
   "outputs": [],
   "source": [
    "#apcD4-apcB3-isiX\n",
    "#apcB3 WP_016874155.1"
   ]
  },
  {
   "cell_type": "code",
   "execution_count": 46,
   "id": "c0fed4c9-ff32-479e-87dd-ee53bde0e667",
   "metadata": {
    "tags": []
   },
   "outputs": [],
   "source": [
    "hfq_species = open(\"hfq.species.2.txt\").read().strip().split(\"\\n\")\n",
    "genome_ids = np.intersect1d(hfq_species,traits.index)\n",
    "traits[\"hfq\"] = traits.index.isin(genome_ids).astype(int)"
   ]
  },
  {
   "cell_type": "code",
   "execution_count": 47,
   "id": "c5dec82e-eafe-420e-a94b-dffb6e515cc3",
   "metadata": {
    "tags": []
   },
   "outputs": [],
   "source": [
    "fout = open(\"itol-datasets/cyanobacteria-hfq2.txt\",\"w\")\n",
    "header = \"\"\"DATASET_BINARY\n",
    "SEPARATOR COMMA\n",
    "DATASET_LABEL,hfq\n",
    "COLOR,#ff0000\n",
    "FIELD_SHAPES,1\n",
    "FIELD_LABELS,hfq\n",
    "DATA\"\"\"\n",
    "print(header,file=fout)\n",
    "#node 9606 will have a filled circle, outline of a left triangle, nothing in the 3rd column and an rectangle outline in column 4\n",
    "#9606,1,0,-1,0\n",
    "for otu_id in rename:\n",
    "    name = rename[otu_id]\n",
    "    v = int(traits.loc[otu_id,\"hfq\"])\n",
    "    print(name,v,sep=\",\",file=fout)\n",
    "fout.close()"
   ]
  },
  {
   "cell_type": "code",
   "execution_count": null,
   "id": "0d809565-a49a-4256-89ae-f6d3a0b42506",
   "metadata": {},
   "outputs": [],
   "source": []
  }
 ],
 "metadata": {
  "kernelspec": {
   "display_name": "Python 3 (ipykernel)",
   "language": "python",
   "name": "python3"
  },
  "language_info": {
   "codemirror_mode": {
    "name": "ipython",
    "version": 3
   },
   "file_extension": ".py",
   "mimetype": "text/x-python",
   "name": "python",
   "nbconvert_exporter": "python",
   "pygments_lexer": "ipython3",
   "version": "3.11.6"
  }
 },
 "nbformat": 4,
 "nbformat_minor": 5
}
