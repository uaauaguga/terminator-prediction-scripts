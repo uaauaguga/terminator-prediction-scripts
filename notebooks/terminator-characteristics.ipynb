{
 "cells": [
  {
   "cell_type": "code",
   "execution_count": 1,
   "id": "0dbafa28",
   "metadata": {},
   "outputs": [],
   "source": [
    "import pandas as pd"
   ]
  },
  {
   "cell_type": "code",
   "execution_count": 30,
   "id": "20dbf3c9",
   "metadata": {},
   "outputs": [],
   "source": [
    "statistics = pd.read_csv(\"GEMs-2048-statistics/GEMs-2048-term-tagger-statistics-by-term.txt\",sep=\"\\t\",index_col=0)"
   ]
  },
  {
   "cell_type": "code",
   "execution_count": 38,
   "id": "57a49675",
   "metadata": {},
   "outputs": [],
   "source": [
    "statistics[\"number-by-genes\"] = (statistics[\"n downstream\"] + statistics[\"n threeprime\"])/statistics[\"gene number\"]"
   ]
  },
  {
   "cell_type": "code",
   "execution_count": 41,
   "id": "8c13af8a",
   "metadata": {},
   "outputs": [],
   "source": [
    "statistics[\"number-by-igr-length\"] = statistics[\"n igr\"]/(statistics[\"igr length\"]/1000)"
   ]
  },
  {
   "cell_type": "code",
   "execution_count": 24,
   "id": "9ca89cc2",
   "metadata": {},
   "outputs": [],
   "source": [
    "otu_ids = open(\"otu-ids-2048.txt\").read().strip().split(\"\\n\")"
   ]
  },
  {
   "cell_type": "code",
   "execution_count": 31,
   "id": "4fcb014e",
   "metadata": {},
   "outputs": [],
   "source": [
    "header = \"\"\"DATASET_SIMPLEBAR\n",
    "\n",
    "SEPARATOR COMMA\n",
    "DATASET_LABEL,simple bar {}\n",
    "\n",
    "DATASET_SCALE,100-1st line-#0000ff-5-1-1,200-line at 200-#ff0000-1-0-2,400-3rd line-#00ff00-5-1-1\n",
    "COLOR,{}\n",
    "WIDTH,100\n",
    "\n",
    "HEIGHT_FACTOR,1\n",
    "\n",
    "DATA\"\"\""
   ]
  },
  {
   "cell_type": "code",
   "execution_count": 32,
   "id": "fe424a1d",
   "metadata": {},
   "outputs": [],
   "source": [
    "fout = open(\"GEMs-2048-statistics/stem-length.txt\",\"w\")\n",
    "print(header.format(\"stem-length\",\"#4c72b0\"),file=fout)\n",
    "for otu_id in otu_ids:\n",
    "    try:\n",
    "        v = round(statistics.loc[otu_id,\"stem length\"],3)\n",
    "        print(otu_id,v,sep=\",\",file=fout)\n",
    "    except:\n",
    "        #print(otu_id)       \n",
    "        continue\n",
    "fout.close()"
   ]
  },
  {
   "cell_type": "code",
   "execution_count": 34,
   "id": "9507419b",
   "metadata": {},
   "outputs": [],
   "source": [
    "header = \"\"\"DATASET_SIMPLEBAR\n",
    "\n",
    "SEPARATOR COMMA\n",
    "DATASET_LABEL,simple bar {}\n",
    "\n",
    "DATASET_SCALE,0-0-##5b5b5b-1-1-1,5-5-##5b5b5b-1-1-2,10-10-##5b5b5b-1-1-1\n",
    "COLOR,{}\n",
    "WIDTH,100\n",
    "\n",
    "HEIGHT_FACTOR,1\n",
    "\n",
    "DATA\"\"\""
   ]
  },
  {
   "cell_type": "code",
   "execution_count": 35,
   "id": "db8fc33e",
   "metadata": {},
   "outputs": [],
   "source": [
    "fout = open(\"GEMs-2048-statistics/U-counts.txt\",\"w\")\n",
    "print(header.format(\"U-counts\",\"#5178b8\"),file=fout)\n",
    "for otu_id in otu_ids:\n",
    "    try:\n",
    "        v = round(statistics.loc[otu_id,\"U count\"],3)\n",
    "        print(otu_id,v,sep=\",\",file=fout)\n",
    "    except:\n",
    "        #print(otu_id)       \n",
    "        continue\n",
    "fout.close()"
   ]
  },
  {
   "cell_type": "code",
   "execution_count": 43,
   "id": "188d6ed5",
   "metadata": {},
   "outputs": [],
   "source": [
    "header = \"\"\"DATASET_SIMPLEBAR\n",
    "\n",
    "SEPARATOR COMMA\n",
    "DATASET_LABEL,simple bar {}\n",
    "\n",
    "DATASET_SCALE,0-0-##5b5b5b-1-0-1,0.5-0.5-##5b5b5b-1-0-1\n",
    "COLOR,{}\n",
    "WIDTH,100\n",
    "\n",
    "HEIGHT_FACTOR,1\n",
    "\n",
    "DATA\"\"\""
   ]
  },
  {
   "cell_type": "code",
   "execution_count": 10,
   "id": "8e7ecb12",
   "metadata": {},
   "outputs": [
    {
     "name": "stdout",
     "output_type": "stream",
     "text": [
      "\tstem length\tloop length\tU count\tgene length\tgene number\tgenome size\tigr length\tn downstream\tn threeprime\tn igr\n",
      "OTU-112\t14\t4\t4\t2689149\t2428\t2919402\t230253\t336\t108\t685\n",
      "OTU-117\t13\t4\t6\t3018135\t3211\t3406500\t388365\t422\t199\t794\n",
      "OTU-150\t13\t4\t9\t1231500\t1255\t1322677\t91177\t177\t176\t306\n",
      "OTU-187\t12\t4\t4\t3263601\t3364\t3589703\t326102\t993\t340\t1877\n",
      "OTU-234\t13\t4\t9\t2170884\t1987\t2338078\t167194\t294\t221\t792\n",
      "OTU-248\t6\t4\t4\t2934063\t2943\t3177583\t243520\t187\t143\t414\n",
      "OTU-363\t13\t4\t0\t3775800\t4036\t4288405\t512605\t867\t483\t1623\n",
      "OTU-380\t14\t4\t0\t4739778\t5208\t5286074\t546296\t1512\t815\t3083\n",
      "OTU-453\t15\t4\t7\t1585401\t1468\t1682328\t96927\t168\t94\t444\n"
     ]
    }
   ],
   "source": [
    "!head ../GEMs-2048-statistics/GEMs-2048-term-tagger-statistics-by-term.txt"
   ]
  },
  {
   "cell_type": "code",
   "execution_count": 44,
   "id": "1d4d1873",
   "metadata": {},
   "outputs": [],
   "source": [
    "fout = open(\"GEMs-2048-statistics/number-by-genes.txt\",\"w\")\n",
    "print(header.format(\"number-by-genes\",\"#5178b8\"),file=fout)\n",
    "for otu_id in otu_ids:\n",
    "    try:\n",
    "        v = round(statistics.loc[otu_id,\"number-by-genes\"],3)\n",
    "        print(otu_id,v,sep=\",\",file=fout)\n",
    "    except:\n",
    "        #print(otu_id)       \n",
    "        continue\n",
    "fout.close()"
   ]
  },
  {
   "cell_type": "code",
   "execution_count": 45,
   "id": "4f0283bb",
   "metadata": {},
   "outputs": [],
   "source": [
    "header = \"\"\"DATASET_SIMPLEBAR\n",
    "\n",
    "SEPARATOR COMMA\n",
    "DATASET_LABEL,simple bar {}\n",
    "\n",
    "DATASET_SCALE,0-0-##5b5b5b-1-0-1,5-5-##5b5b5b-1-0-1\n",
    "COLOR,{}\n",
    "WIDTH,200\n",
    "\n",
    "HEIGHT_FACTOR,1\n",
    "\n",
    "DATA\"\"\""
   ]
  },
  {
   "cell_type": "code",
   "execution_count": 46,
   "id": "c038db58",
   "metadata": {},
   "outputs": [],
   "source": [
    "fout = open(\"GEMs-2048-statistics/number-by-igr-length.txt\",\"w\")\n",
    "print(header.format(\"number-by-igr-length\",\"#8e7cc3\"),file=fout)\n",
    "for otu_id in otu_ids:\n",
    "    try:\n",
    "        v = round(statistics.loc[otu_id,\"number-by-igr-length\"],3)\n",
    "        print(otu_id,v,sep=\",\",file=fout)\n",
    "    except:\n",
    "        #print(otu_id)       \n",
    "        continue\n",
    "fout.close()"
   ]
  },
  {
   "cell_type": "code",
   "execution_count": null,
   "id": "1a01ca94",
   "metadata": {},
   "outputs": [],
   "source": [
    "# #4c72b0 10 15\n",
    "# "
   ]
  },
  {
   "cell_type": "code",
   "execution_count": 2,
   "id": "422f7a23",
   "metadata": {},
   "outputs": [],
   "source": [
    "from matplotlib import pyplot as plt\n"
   ]
  },
  {
   "cell_type": "code",
   "execution_count": 60,
   "id": "fe574ad1",
   "metadata": {},
   "outputs": [
    {
     "data": {
      "image/png": "[encoded data removed]",
      "text/plain": [
       "<Figure size 100.8x216 with 1 Axes>"
      ]
     },
     "metadata": {
      "needs_background": "light"
     },
     "output_type": "display_data"
    }
   ],
   "source": [
    "# top 36\n",
    "fig, ax = plt.subplots(figsize=(1.4,3))\n",
    "ax.bar(x=[\"Phylum\",\"Gene\"],\n",
    "       height=[0.060855,0.010179],width=0.4,color=(0.2980392156862745, 0.4470588235294118, 0.6901960784313725))\n",
    "ax.set_xlim([-0.5,1.5])\n",
    "ax.set_ylabel(\"Weighted Average Proportion Variance\")\n",
    "_ = plt.setp(ax.get_xticklabels(),rotation=45,ha=\"right\",fontsize=10,rotation_mode=\"anchor\")\n",
    "_ = plt.setp(ax.get_yticklabels(),fontsize=10)\n",
    "ax.set_ylim([0,0.1])\n",
    "plt.savefig(\"PCVA.phylum.pdf\",bbox_inches=\"tight\")"
   ]
  },
  {
   "cell_type": "code",
   "execution_count": 57,
   "id": "02bb6aad",
   "metadata": {},
   "outputs": [
    {
     "data": {
      "image/png": "[encoded data removed]",
      "text/plain": [
       "<Figure size 100.8x216 with 1 Axes>"
      ]
     },
     "metadata": {
      "needs_background": "light"
     },
     "output_type": "display_data"
    }
   ],
   "source": [
    "#0.06949\n",
    "#0.010129\n",
    "fig, ax = plt.subplots(figsize=(1.4,3))\n",
    "ax.bar(x=[\"Class\",\"Gene\"],\n",
    "       height=[0.06949,0.010129],width=0.4,color=(0.2980392156862745, 0.4470588235294118, 0.6901960784313725))\n",
    "ax.set_xlim([-0.5,1.5])\n",
    "ax.set_ylim([0,0.1])\n",
    "ax.set_ylabel(\"Weighted Average Proportion Variance\")\n",
    "_ = plt.setp(ax.get_xticklabels(),rotation=45,ha=\"right\",fontsize=10,rotation_mode=\"anchor\")\n",
    "_ = plt.setp(ax.get_yticklabels(),fontsize=10)\n",
    "plt.savefig(\"PCVA.class.pdf\",bbox_inches=\"tight\")"
   ]
  },
  {
   "cell_type": "code",
   "execution_count": 34,
   "id": "409c2030",
   "metadata": {},
   "outputs": [],
   "source": [
    "import seaborn as sns"
   ]
  },
  {
   "cell_type": "code",
   "execution_count": 38,
   "id": "d202da0f",
   "metadata": {},
   "outputs": [
    {
     "data": {
      "text/plain": [
       "[(0.2980392156862745, 0.4470588235294118, 0.6901960784313725),\n",
       " (0.8666666666666667, 0.5176470588235295, 0.3215686274509804),\n",
       " (0.3333333333333333, 0.6588235294117647, 0.40784313725490196),\n",
       " (0.7686274509803922, 0.3058823529411765, 0.3215686274509804),\n",
       " (0.5058823529411764, 0.4470588235294118, 0.7019607843137254),\n",
       " (0.5764705882352941, 0.47058823529411764, 0.3764705882352941),\n",
       " (0.8549019607843137, 0.5450980392156862, 0.7647058823529411),\n",
       " (0.5490196078431373, 0.5490196078431373, 0.5490196078431373),\n",
       " (0.8, 0.7254901960784313, 0.4549019607843137),\n",
       " (0.39215686274509803, 0.7098039215686275, 0.803921568627451)]"
      ]
     },
     "execution_count": 38,
     "metadata": {},
     "output_type": "execute_result"
    }
   ],
   "source": [
    "list(sns.color_palette(\"deep\"))"
   ]
  },
  {
   "cell_type": "code",
   "execution_count": 59,
   "id": "05be22fb",
   "metadata": {},
   "outputs": [
    {
     "data": {
      "image/png": "[encoded data removed]",
      "text/plain": [
       "<Figure size 100.8x216 with 1 Axes>"
      ]
     },
     "metadata": {
      "needs_background": "light"
     },
     "output_type": "display_data"
    }
   ],
   "source": [
    "#0.06949\n",
    "#0.010129\n",
    "fig, ax = plt.subplots(figsize=(1.4,3))\n",
    "ax.bar(x=[\"Order\",\"Gene\"],\n",
    "       height=[0.09324,0.009671],width=0.4,color=(0.2980392156862745, 0.4470588235294118, 0.6901960784313725))\n",
    "ax.set_xlim([-0.5,1.5])\n",
    "ax.set_ylim([0,0.1])\n",
    "ax.set_ylabel(\"Weighted Average Proportion Variance\")\n",
    "_ = plt.setp(ax.get_xticklabels(),rotation=45,ha=\"right\",fontsize=10,rotation_mode=\"anchor\")\n",
    "_ = plt.setp(ax.get_yticklabels(),fontsize=10)\n",
    "plt.savefig(\"PCVA.order.pdf\",bbox_inches=\"tight\")"
   ]
  },
  {
   "cell_type": "code",
   "execution_count": 51,
   "id": "de34ebe3",
   "metadata": {},
   "outputs": [
    {
     "data": {
      "text/plain": [
       "'/home/jinyunfan/Documents/bioinfo/metagenome-ncRNA/terminator-prediction/drafting/v0'"
      ]
     },
     "execution_count": 51,
     "metadata": {},
     "output_type": "execute_result"
    }
   ],
   "source": [
    "pwd"
   ]
  },
  {
   "cell_type": "code",
   "execution_count": 63,
   "id": "dfd5d729",
   "metadata": {},
   "outputs": [
    {
     "name": "stdout",
     "output_type": "stream",
     "text": [
      "OTU-6344\tCACUUAAGAAUAUAAGCCUCGGCCAGCAAUGGUCGGGGCUUUUUUUUGGUUCA\t.(((.(((((...((((((((((((....))))))))))))))))).)))...\n",
      "OTU-6586\tUAGCUAAGAAAAAGCCUGUCAGUUUGACAGGCUUUUUUUUAUUU\t....(((((((((((((((((...)))))))))))))))))...\n",
      "OTU-6864\tUUACCAAUACCCUCUCCCGCCCUACGGGAGAGGGCUCGUCUC\t.........((((((((((.....))))))))))........\n",
      "OTU-16570\tUUGGAAAAGAAAAAGCACCGAGUAAUCGGUGCUUUUUUUAUGUC\t.......((((((((((((((....)))))))))))))).....\n",
      "OTU-20021\tGCCUCGAAGCCGACGGGUUCGGUGUGGACCUUCUGGGUCCGCGCCGGACCCGUUUUU\t...........((((((((((((((((((((...))))))))))))))))))))...\n",
      "OTU-21029\tAAUAAGAUUGUAAAAGGGAAGCGUAAAAUUACGGUUUCCUUUUUUUGUAUAUA\t...........(((((((((.((((....)))).)))))))))..........\n",
      "OTU-28624\tAUUUUAGAGGCAGGCUAAUCUAGCUUGCCUCUUUUCC\t.....((((((((((((...)))))))))))).....\n",
      "OTU-30552\tCGUUCAGCCGAGCGGGCACCCCGCUUGCGCCGCG\t(((...((((((((((...)))))))).)).)))\n",
      "OTU-31178\tAAUCAAAGAUCAGGGGCGCUUCGGCGCCCCUUUUUCGUUCAAC\t...........((((((((....))))))))............\n",
      "OTU-44218\tCACCCGCAUGCGGACGGCCCCGCGCGUCCGGGGCUCCGCCUGCGUG\t....((((.(((((..((((((......))))))))))).))))..\n"
     ]
    }
   ],
   "source": [
    "with open(\"/home/jinyunfan/Documents/bioinfo/metagenome-ncRNA/terminator-prediction/drafting/v1/33.rep.sequence.dot\") as f:\n",
    "    for header in f:\n",
    "        otu_id = header[1:].strip().split(\":\")[0]\n",
    "        sequence = next(f).strip()\n",
    "        structure = next(f).split(\" \")[0]\n",
    "        print(otu_id,sequence,structure,sep=\"\\t\")"
   ]
  },
  {
   "cell_type": "code",
   "execution_count": null,
   "id": "3c756f09",
   "metadata": {},
   "outputs": [],
   "source": []
  }
 ],
 "metadata": {
  "kernelspec": {
   "display_name": "Python 3 (ipykernel)",
   "language": "python",
   "name": "python3"
  },
  "language_info": {
   "codemirror_mode": {
    "name": "ipython",
    "version": 3
   },
   "file_extension": ".py",
   "mimetype": "text/x-python",
   "name": "python",
   "nbconvert_exporter": "python",
   "pygments_lexer": "ipython3",
   "version": "3.11.6"
  }
 },
 "nbformat": 4,
 "nbformat_minor": 5
}
